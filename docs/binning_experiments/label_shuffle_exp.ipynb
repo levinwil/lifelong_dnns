{
 "cells": [
  {
   "cell_type": "markdown",
   "metadata": {},
   "source": [
    "# Label Shuffle Experiment for Progressive Learning\n",
    "\n",
    "The progressive learning package utilizes representation ensembling algorithms to sequentially learn a representation for each task and ensemble both old and new representations for all future decisions. \n",
    "\n",
    "Here, a representation ensembling algorithm based on decision forests (Lifelong Forest) demonstrate forward and backward knowledge transfer of tasks on the CIFAR100 dataset with the labels shuffled. The experiment reproduces the benchmarking adversarial experiment ran in the paper \"A General Approach to Progressive Learning\" by Vogelstein, et al (2020). The following is a link to the aforementioned paper: https://arxiv.org/pdf/2004.12908.pdf  \n",
    "\n",
    "### Import necessary packages and modules"
   ]
  },
  {
   "cell_type": "code",
   "execution_count": 1,
   "metadata": {},
   "outputs": [],
   "source": [
    "import numpy as np\n",
    "import keras\n",
    "from joblib import Parallel, delayed\n",
    "from itertools import product"
   ]
  },
  {
   "cell_type": "markdown",
   "metadata": {},
   "source": [
    "### Load CIFAR100 data \n",
    "We load the CIFAR100 dataset from Keras, and store it in a variable. The training and test partitions are concatenated into one variable called `data_x`. The data is obtained from https://keras.io/api/datasets/cifar100/ .\n",
    "\n",
    "The label shuffle experiment randomly permutes the class labels within each task from task 2 to 10, rendering each of these tasks adversarial with regard to the first task. We show through this experiment that L2F are invariant to class lable shuffling, and both demonstrate transfer.  "
   ]
  },
  {
   "cell_type": "code",
   "execution_count": 2,
   "metadata": {},
   "outputs": [],
   "source": [
    "(X_train, y_train), (X_test, y_test) = keras.datasets.cifar100.load_data()\n",
    "data_x = np.concatenate([X_train, X_test])"
   ]
  },
  {
   "cell_type": "markdown",
   "metadata": {},
   "source": [
    "### Define hyperparameters for the model and preprocess data\n",
    "Running the cells below will define the hyperparameters the experimental setting \n",
    "\n",
    "`num_points_per_task`: The number of points per task \n",
    "\n",
    "`shifts`: The number of data ways to split the data into train and test"
   ]
  },
  {
   "cell_type": "code",
   "execution_count": 3,
   "metadata": {},
   "outputs": [],
   "source": [
    "num_points_per_task = 500\n",
    "\n",
    "shifts = 2 \n",
    "\n",
    "num_slots = int(5000 // num_points_per_task)\n",
    "slot_fold = range(int(5000 // num_points_per_task))"
   ]
  },
  {
   "cell_type": "markdown",
   "metadata": {},
   "source": [
    "This cell will preprocess the data"
   ]
  },
  {
   "cell_type": "code",
   "execution_count": 4,
   "metadata": {},
   "outputs": [],
   "source": [
    "# Reshape the data \n",
    "data_x = data_x.reshape((data_x.shape[0], data_x.shape[1] * data_x.shape[2] * data_x.shape[3]))\n",
    "data_y = np.concatenate([y_train, y_test])\n",
    "data_y = data_y[:, 0]"
   ]
  },
  {
   "cell_type": "code",
   "execution_count": 15,
   "metadata": {},
   "outputs": [],
   "source": [
    "# Perform binning of data\n",
    "from functions.binning import KBinsDiscretize\n",
    "\n",
    "data_x5 = KBinsDiscretize(data_x, n_bins=5)\n",
    "data_x20 = KBinsDiscretize(data_x, n_bins=20)\n",
    "data_x40 = KBinsDiscretize(data_x, n_bins=40)\n",
    "data_x80 = KBinsDiscretize(data_x, n_bins=80)\n",
    "data_x125 = KBinsDiscretize(data_x, n_bins=20)"
   ]
  },
  {
   "cell_type": "markdown",
   "metadata": {},
   "source": [
    "### Train the model and perform validation\n",
    "\n",
    "#### run_parallel_exp: \n",
    "Wrapper method for the `LF_experiment` function which declares and trains the model, and performs validation with respect to the test data to compute the error of the model at a particular iteration\n",
    "\n",
    "`ntree`: Number of trees for Uncertainty Forest"
   ]
  },
  {
   "cell_type": "code",
   "execution_count": 16,
   "metadata": {},
   "outputs": [
    {
     "ename": "ModuleNotFoundError",
     "evalue": "No module named 'proglearn'",
     "output_type": "error",
     "traceback": [
      "\u001b[1;31m---------------------------------------------------------------------------\u001b[0m",
      "\u001b[1;31mModuleNotFoundError\u001b[0m                       Traceback (most recent call last)",
      "\u001b[1;32m<ipython-input-16-f2312ee62b40>\u001b[0m in \u001b[0;36m<module>\u001b[1;34m\u001b[0m\n\u001b[1;32m----> 1\u001b[1;33m \u001b[1;32mfrom\u001b[0m \u001b[0mfunctions\u001b[0m\u001b[1;33m.\u001b[0m\u001b[0mlabel_shuffle_functions\u001b[0m \u001b[1;32mimport\u001b[0m \u001b[0mrun_parallel_exp\u001b[0m\u001b[1;33m\u001b[0m\u001b[1;33m\u001b[0m\u001b[0m\n\u001b[0m\u001b[0;32m      2\u001b[0m \u001b[1;32mimport\u001b[0m \u001b[0mtimeit\u001b[0m\u001b[1;33m\u001b[0m\u001b[1;33m\u001b[0m\u001b[0m\n\u001b[0;32m      3\u001b[0m \u001b[1;33m\u001b[0m\u001b[0m\n\u001b[0;32m      4\u001b[0m \u001b[0mn_trees\u001b[0m\u001b[1;33m=\u001b[0m\u001b[1;33m[\u001b[0m\u001b[1;36m10\u001b[0m\u001b[1;33m]\u001b[0m \u001b[1;31m# Number of trees in UF\u001b[0m\u001b[1;33m\u001b[0m\u001b[1;33m\u001b[0m\u001b[0m\n\u001b[0;32m      5\u001b[0m \u001b[1;33m\u001b[0m\u001b[0m\n",
      "\u001b[1;32m~\\Desktop\\ProgLearn\\docs\\binning_experiments\\functions\\label_shuffle_functions.py\u001b[0m in \u001b[0;36m<module>\u001b[1;34m\u001b[0m\n\u001b[0;32m      6\u001b[0m \u001b[1;32mimport\u001b[0m \u001b[0msys\u001b[0m\u001b[1;33m\u001b[0m\u001b[1;33m\u001b[0m\u001b[0m\n\u001b[0;32m      7\u001b[0m \u001b[1;33m\u001b[0m\u001b[0m\n\u001b[1;32m----> 8\u001b[1;33m \u001b[1;32mfrom\u001b[0m \u001b[0mproglearn\u001b[0m\u001b[1;33m.\u001b[0m\u001b[0mforest\u001b[0m \u001b[1;32mimport\u001b[0m \u001b[0mLifelongClassificationForest\u001b[0m\u001b[1;33m\u001b[0m\u001b[1;33m\u001b[0m\u001b[0m\n\u001b[0m\u001b[0;32m      9\u001b[0m \u001b[1;33m\u001b[0m\u001b[0m\n\u001b[0;32m     10\u001b[0m \u001b[1;33m\u001b[0m\u001b[0m\n",
      "\u001b[1;31mModuleNotFoundError\u001b[0m: No module named 'proglearn'"
     ]
    }
   ],
   "source": [
    "from functions.label_shuffle_functions import run_parallel_exp\n",
    "import timeit\n",
    "\n",
    "n_trees=[10] # Number of trees in UF\n",
    "\n",
    "shift_fold = range(1,shifts,1) # Number of shifts\n",
    "iterable = product(n_trees,shift_fold,slot_fold)\n",
    "bins = [1, 5, 20, 40, 80, 125]\n",
    "times = np.empty\n",
    "\n",
    "start_time = timeit.default_timer()\n",
    "df_list = Parallel(n_jobs=-1,verbose=1)(\n",
    "    delayed(run_parallel_exp)(\n",
    "            data_x, data_y, ntree, num_points_per_task, slot=slot, shift=shift\n",
    "            ) for ntree,shift,slot in iterable\n",
    "            )\n",
    "elapsed = timeit.default_timer() - start_time\n",
    "times.append(elapsed)\n",
    "\n",
    "start_time = timeit.default_timer()\n",
    "df_list5 = Parallel(n_jobs=-1,verbose=1)(\n",
    "    delayed(run_parallel_exp)(\n",
    "            data_x5, data_y, ntree, num_points_per_task, slot=slot, shift=shift\n",
    "            ) for ntree,shift,slot in iterable\n",
    "            )\n",
    "elapsed = timeit.default_timer() - start_time\n",
    "times.append(elapsed)\n",
    "\n",
    "start_time = timeit.default_timer()\n",
    "df_list20 = Parallel(n_jobs=-1,verbose=1)(\n",
    "    delayed(run_parallel_exp)(\n",
    "            data_x20, data_y, ntree, num_points_per_task, slot=slot, shift=shift\n",
    "            ) for ntree,shift,slot in iterable\n",
    "            )\n",
    "elapsed = timeit.default_timer() - start_time\n",
    "times.append(elapsed)\n",
    "\n",
    "start_time = timeit.default_timer()\n",
    "df_list40 = Parallel(n_jobs=-1,verbose=1)(\n",
    "    delayed(run_parallel_exp)(\n",
    "            data_x40, data_y, ntree, num_points_per_task, slot=slot, shift=shift\n",
    "            ) for ntree,shift,slot in iterable\n",
    "            )\n",
    "elapsed = timeit.default_timer() - start_time\n",
    "times.append(elapsed)\n",
    "\n",
    "start_time = timeit.default_timer()\n",
    "df_list80 = Parallel(n_jobs=-1,verbose=1)(\n",
    "    delayed(run_parallel_exp)(\n",
    "            data_x80, data_y, ntree, num_points_per_task, slot=slot, shift=shift\n",
    "            ) for ntree,shift,slot in iterable\n",
    "            )\n",
    "elapsed = timeit.default_timer() - start_time\n",
    "times.append(elapsed)\n",
    "\n",
    "start_time = timeit.default_timer()\n",
    "df_list125 = Parallel(n_jobs=-1,verbose=1)(\n",
    "    delayed(run_parallel_exp)(\n",
    "            data_x125, data_y, ntree, num_points_per_task, slot=slot, shift=shift\n",
    "            ) for ntree,shift,slot in iterable\n",
    "            )\n",
    "elapsed = timeit.default_timer() - start_time\n",
    "times.append(elapsed)"
   ]
  },
  {
   "cell_type": "markdown",
   "metadata": {},
   "source": [
    "### Function to calculate backward transfer efficiency\n",
    "\n",
    "The backward transfer efficiency of $f_n$ for task $t$ given $n$ samples is \n",
    "$$BTE^t (f_n) := \\mathbb{E} [R^t (f_n^{<t} )/R^t (f_n)]$$\n",
    "\n",
    "We say an algorithm achieves backward transfer for task $t$ if and only if $BTE^t(f_n) > 1$. Intuitively, this means that the progressive learner has used data associated with new tasks to improve performance on previous tasks. \n",
    "\n",
    "#### calc_bte:\n",
    "Function used to calculate bte across tasks, averaged across all shifts and folds"
   ]
  },
  {
   "cell_type": "code",
   "execution_count": 12,
   "metadata": {},
   "outputs": [
    {
     "ename": "ModuleNotFoundError",
     "evalue": "No module named 'proglearn'",
     "output_type": "error",
     "traceback": [
      "\u001b[1;31m---------------------------------------------------------------------------\u001b[0m",
      "\u001b[1;31mModuleNotFoundError\u001b[0m                       Traceback (most recent call last)",
      "\u001b[1;32m<ipython-input-12-769a48399ae5>\u001b[0m in \u001b[0;36m<module>\u001b[1;34m\u001b[0m\n\u001b[1;32m----> 1\u001b[1;33m \u001b[1;32mfrom\u001b[0m \u001b[0mfunctions\u001b[0m\u001b[1;33m.\u001b[0m\u001b[0mlabel_shuffle_functions\u001b[0m \u001b[1;32mimport\u001b[0m \u001b[0mcalc_bte\u001b[0m\u001b[1;33m\u001b[0m\u001b[1;33m\u001b[0m\u001b[0m\n\u001b[0m\u001b[0;32m      2\u001b[0m \u001b[1;33m\u001b[0m\u001b[0m\n\u001b[0;32m      3\u001b[0m \u001b[0mbtes\u001b[0m \u001b[1;33m=\u001b[0m \u001b[0mcalc_bte\u001b[0m\u001b[1;33m(\u001b[0m\u001b[0mdf_list\u001b[0m\u001b[1;33m,\u001b[0m \u001b[0mnum_slots\u001b[0m\u001b[1;33m,\u001b[0m \u001b[0mshifts\u001b[0m\u001b[1;33m)\u001b[0m\u001b[1;33m\u001b[0m\u001b[1;33m\u001b[0m\u001b[0m\n\u001b[0;32m      4\u001b[0m \u001b[0mbtes5\u001b[0m \u001b[1;33m=\u001b[0m \u001b[0mcalc_bte\u001b[0m\u001b[1;33m(\u001b[0m\u001b[0mdf_list5\u001b[0m\u001b[1;33m,\u001b[0m \u001b[0mnum_slots\u001b[0m\u001b[1;33m,\u001b[0m \u001b[0mshifts\u001b[0m\u001b[1;33m)\u001b[0m\u001b[1;33m\u001b[0m\u001b[1;33m\u001b[0m\u001b[0m\n\u001b[0;32m      5\u001b[0m \u001b[0mbtes20\u001b[0m \u001b[1;33m=\u001b[0m \u001b[0mcalc_bte\u001b[0m\u001b[1;33m(\u001b[0m\u001b[0mdf_list20\u001b[0m\u001b[1;33m,\u001b[0m \u001b[0mnum_slots\u001b[0m\u001b[1;33m,\u001b[0m \u001b[0mshifts\u001b[0m\u001b[1;33m)\u001b[0m\u001b[1;33m\u001b[0m\u001b[1;33m\u001b[0m\u001b[0m\n",
      "\u001b[1;32m~\\Desktop\\ProgLearn\\docs\\binning_experiments\\functions\\label_shuffle_functions.py\u001b[0m in \u001b[0;36m<module>\u001b[1;34m\u001b[0m\n\u001b[0;32m      6\u001b[0m \u001b[1;32mimport\u001b[0m \u001b[0msys\u001b[0m\u001b[1;33m\u001b[0m\u001b[1;33m\u001b[0m\u001b[0m\n\u001b[0;32m      7\u001b[0m \u001b[1;33m\u001b[0m\u001b[0m\n\u001b[1;32m----> 8\u001b[1;33m \u001b[1;32mfrom\u001b[0m \u001b[0mproglearn\u001b[0m\u001b[1;33m.\u001b[0m\u001b[0mforest\u001b[0m \u001b[1;32mimport\u001b[0m \u001b[0mLifelongClassificationForest\u001b[0m\u001b[1;33m\u001b[0m\u001b[1;33m\u001b[0m\u001b[0m\n\u001b[0m\u001b[0;32m      9\u001b[0m \u001b[1;33m\u001b[0m\u001b[0m\n\u001b[0;32m     10\u001b[0m \u001b[1;33m\u001b[0m\u001b[0m\n",
      "\u001b[1;31mModuleNotFoundError\u001b[0m: No module named 'proglearn'"
     ]
    }
   ],
   "source": [
    "from functions.label_shuffle_functions import calc_bte\n",
    "\n",
    "btes = calc_bte(df_list, num_slots, shifts)\n",
    "btes5 = calc_bte(df_list5, num_slots, shifts)\n",
    "btes20 = calc_bte(df_list20, num_slots, shifts)\n",
    "btes40 = calc_bte(df_list40, num_slots, shifts)\n",
    "btes80 = calc_bte(df_list80, num_slots, shifts)\n",
    "btes125 = calc_bte(df_list125, num_slots, shifts)"
   ]
  },
  {
   "cell_type": "markdown",
   "metadata": {},
   "source": [
    "### Plotting the backward transfer efficiency\n",
    "Run cell to generate plot of backward transfer efficiency of the Lifelong Classification Forest algorithm. We see that we achieve backwards transfer overall that increases as more tasks are seen.\n",
    "\n",
    "#### plot_bte:\n",
    "Function used to plot bte across tasks"
   ]
  },
  {
   "cell_type": "code",
   "execution_count": 14,
   "metadata": {},
   "outputs": [
    {
     "ename": "ModuleNotFoundError",
     "evalue": "No module named 'proglearn'",
     "output_type": "error",
     "traceback": [
      "\u001b[1;31m---------------------------------------------------------------------------\u001b[0m",
      "\u001b[1;31mModuleNotFoundError\u001b[0m                       Traceback (most recent call last)",
      "\u001b[1;32m<ipython-input-14-287a44a7d7ce>\u001b[0m in \u001b[0;36m<module>\u001b[1;34m\u001b[0m\n\u001b[1;32m----> 1\u001b[1;33m \u001b[1;32mfrom\u001b[0m \u001b[0mfunctions\u001b[0m\u001b[1;33m.\u001b[0m\u001b[0mlabel_shuffle_functions\u001b[0m \u001b[1;32mimport\u001b[0m \u001b[0mplot_bte\u001b[0m\u001b[1;33m\u001b[0m\u001b[1;33m\u001b[0m\u001b[0m\n\u001b[0m\u001b[0;32m      2\u001b[0m \u001b[1;33m\u001b[0m\u001b[0m\n\u001b[0;32m      3\u001b[0m \u001b[0mplot_bte\u001b[0m\u001b[1;33m(\u001b[0m\u001b[0mbtes\u001b[0m\u001b[1;33m)\u001b[0m\u001b[1;33m\u001b[0m\u001b[1;33m\u001b[0m\u001b[0m\n\u001b[0;32m      4\u001b[0m \u001b[0mplot_bte\u001b[0m\u001b[1;33m(\u001b[0m\u001b[0mbtes5\u001b[0m\u001b[1;33m)\u001b[0m\u001b[1;33m\u001b[0m\u001b[1;33m\u001b[0m\u001b[0m\n\u001b[0;32m      5\u001b[0m \u001b[0mplot_bte\u001b[0m\u001b[1;33m(\u001b[0m\u001b[0mbtes20\u001b[0m\u001b[1;33m)\u001b[0m\u001b[1;33m\u001b[0m\u001b[1;33m\u001b[0m\u001b[0m\n",
      "\u001b[1;32m~\\Desktop\\ProgLearn\\docs\\binning_experiments\\functions\\label_shuffle_functions.py\u001b[0m in \u001b[0;36m<module>\u001b[1;34m\u001b[0m\n\u001b[0;32m      6\u001b[0m \u001b[1;32mimport\u001b[0m \u001b[0msys\u001b[0m\u001b[1;33m\u001b[0m\u001b[1;33m\u001b[0m\u001b[0m\n\u001b[0;32m      7\u001b[0m \u001b[1;33m\u001b[0m\u001b[0m\n\u001b[1;32m----> 8\u001b[1;33m \u001b[1;32mfrom\u001b[0m \u001b[0mproglearn\u001b[0m\u001b[1;33m.\u001b[0m\u001b[0mforest\u001b[0m \u001b[1;32mimport\u001b[0m \u001b[0mLifelongClassificationForest\u001b[0m\u001b[1;33m\u001b[0m\u001b[1;33m\u001b[0m\u001b[0m\n\u001b[0m\u001b[0;32m      9\u001b[0m \u001b[1;33m\u001b[0m\u001b[0m\n\u001b[0;32m     10\u001b[0m \u001b[1;33m\u001b[0m\u001b[0m\n",
      "\u001b[1;31mModuleNotFoundError\u001b[0m: No module named 'proglearn'"
     ]
    }
   ],
   "source": [
    "from functions.label_shuffle_functions import plot_bte\n",
    "\n",
    "plot_bte(btes)"
   ]
  },
  {
   "cell_type": "code",
   "execution_count": null,
   "metadata": {},
   "outputs": [],
   "source": [
    "plot_bte(btes5)"
   ]
  },
  {
   "cell_type": "code",
   "execution_count": null,
   "metadata": {},
   "outputs": [],
   "source": [
    "plot_bte(btes20)"
   ]
  },
  {
   "cell_type": "code",
   "execution_count": null,
   "metadata": {},
   "outputs": [],
   "source": [
    "plot_bte(btes40)"
   ]
  },
  {
   "cell_type": "code",
   "execution_count": null,
   "metadata": {},
   "outputs": [],
   "source": [
    "plot_bte(btes80)"
   ]
  },
  {
   "cell_type": "code",
   "execution_count": null,
   "metadata": {},
   "outputs": [],
   "source": [
    "plot_bte(btes125)"
   ]
  },
  {
   "cell_type": "code",
   "execution_count": null,
   "metadata": {},
   "outputs": [],
   "source": [
    "from matplotlib import pyplot as plt\n",
    "plt.plot(bins, times)\n",
    "plt.title(\"Number of Bins vs Training Time\")\n",
    "plt.xlabel(\"# of Bins\")\n",
    "plt.ylabel(\"Training Time (seconds)\")\n",
    "plt.show()"
   ]
  }
 ],
 "metadata": {
  "kernelspec": {
   "display_name": "Python 3",
   "language": "python",
   "name": "python3"
  },
  "language_info": {
   "codemirror_mode": {
    "name": "ipython",
    "version": 3
   },
   "file_extension": ".py",
   "mimetype": "text/x-python",
   "name": "python",
   "nbconvert_exporter": "python",
   "pygments_lexer": "ipython3",
   "version": "3.8.5"
  }
 },
 "nbformat": 4,
 "nbformat_minor": 2
}
