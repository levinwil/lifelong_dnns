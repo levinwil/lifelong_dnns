{
 "cells": [
  {
   "cell_type": "markdown",
   "metadata": {},
   "source": [
    "# Analyzing the UncertaintyForest Class by Reproducing Figure 1\n",
    "\n",
    "This set of three tutorials (`uncertaintyforest_running_example.ipynb`,`uncertaintyforest_fig1.ipynb`, and `uncertaintyforest_fig2.ipynb`) will explain the UncertaintyForest class. After following these tutorials, you should have the ability to run UncertaintyForest on your own machine and generate Figures 1 and 2 from [this paper](https://arxiv.org/pdf/1907.00325.pdf). \n",
    "\n",
    "If you haven't seen it already, take a look at other tutorials to setup and install the ProgLearn package: `installation_guide.ipynb`.\n",
    "\n",
    "*Goal: Run the UncertaintyForest class to produce the results from Figure 1*\n",
    "\n",
    "*Note: Figure 1 refers to Figure 1 from [this paper](https://arxiv.org/pdf/1907.00325.pdf)*"
   ]
  },
  {
   "cell_type": "markdown",
   "metadata": {},
   "source": [
    "## Import Required Packages"
   ]
  },
  {
   "cell_type": "code",
   "execution_count": null,
   "metadata": {},
   "outputs": [],
   "source": [
    "import numpy as np\n",
    "\n",
    "from sklearn.ensemble import RandomForestClassifier\n",
    "from sklearn.calibration import CalibratedClassifierCV\n",
    "\n",
    "from proglearn.forest import UncertaintyForest\n",
    "from functions.unc_forest_tutorials_functions import generate_data, estimate_posterior, plot_posterior,  plot_variance,  plot_fig1"
   ]
  },
  {
   "cell_type": "markdown",
   "metadata": {},
   "source": [
    "## Specify Parameters"
   ]
  },
  {
   "cell_type": "code",
   "execution_count": null,
   "metadata": {},
   "outputs": [],
   "source": [
    "# The following are two sets of parameters.\n",
    "# The first are those that were actually used to produce Figure 1.\n",
    "# These take a long time to actually run since there are 6000 data points.\n",
    "# Below those, you'll find some testing parameters so that you can see the results more quickly.\n",
    "\n",
    "# Here are the \"Real Parameters\"\n",
    "#n = 6000\n",
    "#mean = 1\n",
    "#var = 1\n",
    "#num_trials = 100 \n",
    "#X_eval = np.linspace(-2, 2, num = 30).reshape(-1, 1)\n",
    "#n_estimators = 300\n",
    "#num_plotted_trials = 10\n",
    "\n",
    "# Here are the \"Test Parameters\"\n",
    "n = 300 # number of data points\n",
    "mean = 1 # mean of the data\n",
    "var = 1 # variance of the data\n",
    "num_trials = 3 # number of trials to run\n",
    "X_eval = np.linspace(-2, 2, num = 10).reshape(-1, 1) # the evaluation span (over X) for the plot\n",
    "n_estimators = 200 # the number of estimators\n",
    "num_plotted_trials = 2 # the number of \"fainter\" lines to be displayed on the figure"
   ]
  },
  {
   "cell_type": "markdown",
   "metadata": {},
   "source": [
    "## Specify Learners\n",
    "\n",
    "Now, we'll specify which learners we'll compare. Figure 1 uses three different learners."
   ]
  },
  {
   "cell_type": "code",
   "execution_count": null,
   "metadata": {},
   "outputs": [],
   "source": [
    "# Algorithms used to produce Figure 1\n",
    "algos = [\n",
    "    {\n",
    "        'instance': RandomForestClassifier(n_estimators = n_estimators),\n",
    "        'label': 'CART',\n",
    "        'title': 'CART Forest',\n",
    "        'color': \"#1b9e77\",\n",
    "    },\n",
    "    {\n",
    "        'instance': CalibratedClassifierCV(base_estimator=RandomForestClassifier(n_estimators = n_estimators // 5), \n",
    "                                           method='isotonic', \n",
    "                                           cv = 5),\n",
    "        'label': 'IRF',\n",
    "        'title': 'Isotonic Reg. Forest',\n",
    "        'color': \"#fdae61\",\n",
    "    },\n",
    "    {\n",
    "        'instance': UncertaintyForest(n_estimators = n_estimators, tree_construction_proportion = 0.4, kappa = 3.0),\n",
    "        'label': 'UF',\n",
    "        'title': 'Uncertainty Forest',\n",
    "        'color': \"#F41711\",\n",
    "    },\n",
    "]\n",
    "\n",
    "# Plotting parameters\n",
    "parallel = True"
   ]
  },
  {
   "cell_type": "markdown",
   "metadata": {},
   "source": [
    "## Generate predicted posteriors\n",
    "\n",
    "Now, we'll run the code to obtain the results that will be displayed in Figure 1."
   ]
  },
  {
   "cell_type": "code",
   "execution_count": null,
   "metadata": {},
   "outputs": [],
   "source": [
    "# This is the code that actually generates data and predictions.\n",
    "for algo in algos:\n",
    "    algo['predicted_posterior'] = estimate_posterior(algo, n, mean, var, num_trials, X_eval, parallel = parallel)"
   ]
  },
  {
   "cell_type": "markdown",
   "metadata": {},
   "source": [
    "## Create Figure 1"
   ]
  },
  {
   "cell_type": "code",
   "execution_count": null,
   "metadata": {},
   "outputs": [],
   "source": [
    "plot_fig1(algos, num_plotted_trials, X_eval)"
   ]
  }
 ],
 "metadata": {
  "kernelspec": {
   "display_name": "Python 3",
   "language": "python",
   "name": "python3"
  },
  "language_info": {
   "codemirror_mode": {
    "name": "ipython",
    "version": 3
   },
   "file_extension": ".py",
   "mimetype": "text/x-python",
   "name": "python",
   "nbconvert_exporter": "python",
   "pygments_lexer": "ipython3",
   "version": "3.6.10"
  }
 },
 "nbformat": 4,
 "nbformat_minor": 4
}
