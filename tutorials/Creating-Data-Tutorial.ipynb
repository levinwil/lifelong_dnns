{
 "cells": [
  {
   "cell_type": "markdown",
   "metadata": {},
   "source": [
    "# Tutorial Overview\n",
    "This tutorial was designed to explain how to create some random data. It was designed for use with the UncertaintyForest class but will work with any machine learning algorithm. After following the steps below, you should have created some random data.\n",
    "\n",
    "If you need help installing progressive or other packages, take a look at the tutorial called `Installation-and-Package-Setup-Tutorial`.\n",
    "\n",
    "# Data Setup\n",
    "## *Goal: Understand the data and the parameters that will be passed to the UncertaintyForest instance*"
   ]
  },
  {
   "cell_type": "markdown",
   "metadata": {},
   "source": [
    "### First, we have to import some modules to have everything we need. "
   ]
  },
  {
   "cell_type": "markdown",
   "metadata": {},
   "source": [
    "The top two sections are standard packages, the third block is just specifying where to look for the packages listed below, the fourth block is another standard package, and the final block is for importing the actual UncertaintyForest class."
   ]
  },
  {
   "cell_type": "code",
   "execution_count": 1,
   "metadata": {},
   "outputs": [],
   "source": [
    "import numpy as np\n",
    "import seaborn as sns\n",
    "import matplotlib.pyplot as plt\n",
    "\n",
    "from sklearn.ensemble import RandomForestClassifier\n",
    "from sklearn.calibration import CalibratedClassifierCV\n",
    "from sklearn.model_selection import train_test_split\n",
    "from sklearn.ensemble import BaggingClassifier\n",
    "from sklearn.tree import DecisionTreeClassifier\n",
    "\n",
    "from tqdm.notebook import tqdm\n",
    "from joblib import Parallel, delayed\n",
    "\n",
    "from proglearn.forest import UncertaintyForest"
   ]
  },
  {
   "cell_type": "markdown",
   "metadata": {},
   "source": [
    "### Now, we create the function that will make data that we'll train on.\n",
    "Here, we use randomized data because if the learner can learn that, then it can learn most anything."
   ]
  },
  {
   "cell_type": "code",
   "execution_count": 14,
   "metadata": {},
   "outputs": [],
   "source": [
    "def generate_data(n, d, var): \n",
    "    '''\n",
    "    Parameters\n",
    "    ---\n",
    "    n : int\n",
    "        The number of data to be generated\n",
    "    d : int\n",
    "        The number of features to generate for each data point\n",
    "    var : double\n",
    "        The variance in the data\n",
    "    '''\n",
    "    # create the mean matrix for the data (here it's just a mean of 1)\n",
    "    means = [np.ones(d) * -1, np.ones(d)] \n",
    "    \n",
    "    # create the data with the given parameters (variance)\n",
    "    X = np.concatenate([np.random.multivariate_normal(mean, var * np.eye(len(mean)), \n",
    "                                                 size=int(n / 2)) for mean in means]) \n",
    "    \n",
    "    # create the labels for the data\n",
    "    y = np.concatenate([np.ones(int(n / 2)) * mean_idx for mean_idx in range(len(means))])\n",
    "    \n",
    "    return X, y"
   ]
  },
  {
   "cell_type": "markdown",
   "metadata": {},
   "source": [
    "### Lastly, the parameters of the uncertainty forest are defined."
   ]
  },
  {
   "cell_type": "code",
   "execution_count": 15,
   "metadata": {},
   "outputs": [],
   "source": [
    "# Real Params.\n",
    "n_train = 50\n",
    "n_test = 10000\n",
    "d = 100\n",
    "var = 0.25\n",
    "num_trials = 10\n",
    "n_estimators = 100"
   ]
  },
  {
   "cell_type": "markdown",
   "metadata": {},
   "source": [
    "It will be important to understand each of these parameters, so we'll go into more depth on what they mean:\n",
    "* `n_train` is the number of training data that will be used to train the learner\n",
    "* `n_test` is the number of test data that will be used to assess how well the learner is at classifying\n",
    "* `d` is the dimensionality of the input space (i.e. how many features the data has)\n",
    "* `var` is the variance of the data\n",
    "* `num_trials` is the number of times we'll generate data, train, and test to make sure our results are not outliers\n",
    "* `num_estimators` is the number of trees in the forest"
   ]
  },
  {
   "cell_type": "markdown",
   "metadata": {},
   "source": [
    "### You're done with the tutorial!\n",
    "\n",
    "### The next steps depends on what you want to do. One possibility is to go through the tutorial on running an analyzing the UncertaintyForest class\n",
    "(See `Uncertainty-Forest-Tutorial.ipynb`)"
   ]
  },
  {
   "cell_type": "code",
   "execution_count": null,
   "metadata": {},
   "outputs": [],
   "source": []
  }
 ],
 "metadata": {
  "kernelspec": {
   "display_name": "Python 3",
   "language": "python",
   "name": "python3"
  },
  "language_info": {
   "codemirror_mode": {
    "name": "ipython",
    "version": 3
   },
   "file_extension": ".py",
   "mimetype": "text/x-python",
   "name": "python",
   "nbconvert_exporter": "python",
   "pygments_lexer": "ipython3",
   "version": "3.7.0"
  }
 },
 "nbformat": 4,
 "nbformat_minor": 4
}
