{
 "cells": [
  {
   "cell_type": "markdown",
   "metadata": {},
   "source": [
    "# MORF API Working Demo\n",
    "\n",
    "Here, we want to validate visually that MORF API works as intended. First, we show the 2D contiguous convolutional splitter."
   ]
  },
  {
   "cell_type": "code",
   "execution_count": 1,
   "metadata": {},
   "outputs": [
    {
     "data": {
      "application/javascript": [
       "\n",
       "            setTimeout(function() {\n",
       "                var nbb_cell_id = 1;\n",
       "                var nbb_unformatted_code = \"%load_ext nb_black\\n%load_ext lab_black\\n%load_ext autoreload\\n%autoreload 2\";\n",
       "                var nbb_formatted_code = \"%load_ext nb_black\\n%load_ext lab_black\\n%load_ext autoreload\\n%autoreload 2\";\n",
       "                var nbb_cells = Jupyter.notebook.get_cells();\n",
       "                for (var i = 0; i < nbb_cells.length; ++i) {\n",
       "                    if (nbb_cells[i].input_prompt_number == nbb_cell_id) {\n",
       "                        if (nbb_cells[i].get_text() == nbb_unformatted_code) {\n",
       "                             nbb_cells[i].set_text(nbb_formatted_code);\n",
       "                        }\n",
       "                        break;\n",
       "                    }\n",
       "                }\n",
       "            }, 500);\n",
       "            "
      ],
      "text/plain": [
       "<IPython.core.display.Javascript object>"
      ]
     },
     "metadata": {},
     "output_type": "display_data"
    }
   ],
   "source": [
    "%load_ext nb_black\n",
    "%load_ext lab_black\n",
    "%load_ext autoreload\n",
    "%autoreload 2"
   ]
  },
  {
   "cell_type": "code",
   "execution_count": 3,
   "metadata": {},
   "outputs": [
    {
     "data": {
      "application/javascript": [
       "\n",
       "            setTimeout(function() {\n",
       "                var nbb_cell_id = 3;\n",
       "                var nbb_unformatted_code = \"import numpy as np\\nfrom proglearn.morf import Conv2DSplitter\\n\\nimport matplotlib as mpl\\nimport matplotlib.pyplot as plt\\nimport seaborn as sns\";\n",
       "                var nbb_formatted_code = \"import numpy as np\\nfrom proglearn.morf import Conv2DSplitter\\n\\nimport matplotlib as mpl\\nimport matplotlib.pyplot as plt\\nimport seaborn as sns\";\n",
       "                var nbb_cells = Jupyter.notebook.get_cells();\n",
       "                for (var i = 0; i < nbb_cells.length; ++i) {\n",
       "                    if (nbb_cells[i].input_prompt_number == nbb_cell_id) {\n",
       "                        if (nbb_cells[i].get_text() == nbb_unformatted_code) {\n",
       "                             nbb_cells[i].set_text(nbb_formatted_code);\n",
       "                        }\n",
       "                        break;\n",
       "                    }\n",
       "                }\n",
       "            }, 500);\n",
       "            "
      ],
      "text/plain": [
       "<IPython.core.display.Javascript object>"
      ]
     },
     "metadata": {},
     "output_type": "display_data"
    }
   ],
   "source": [
    "import numpy as np\n",
    "from proglearn.morf import Conv2DSplitter\n",
    "\n",
    "import matplotlib as mpl\n",
    "import matplotlib.pyplot as plt\n",
    "import seaborn as sns"
   ]
  },
  {
   "cell_type": "markdown",
   "metadata": {},
   "source": [
    "# Splitters: Convolutional 2D Patches (Contiguous and Discontiguous)"
   ]
  },
  {
   "cell_type": "markdown",
   "metadata": {},
   "source": [
    "## Contiguous 2D Convolutional Patch"
   ]
  },
  {
   "cell_type": "code",
   "execution_count": 4,
   "metadata": {},
   "outputs": [
    {
     "data": {
      "application/javascript": [
       "\n",
       "            setTimeout(function() {\n",
       "                var nbb_cell_id = 4;\n",
       "                var nbb_unformatted_code = \"random_state = 123456\\n\\nn = 50\\nheight = 5\\nd = 4\\nX = np.ones((n, height * d))\\ny = np.ones((n,))\\ny[:25] = 0\";\n",
       "                var nbb_formatted_code = \"random_state = 123456\\n\\nn = 50\\nheight = 5\\nd = 4\\nX = np.ones((n, height * d))\\ny = np.ones((n,))\\ny[:25] = 0\";\n",
       "                var nbb_cells = Jupyter.notebook.get_cells();\n",
       "                for (var i = 0; i < nbb_cells.length; ++i) {\n",
       "                    if (nbb_cells[i].input_prompt_number == nbb_cell_id) {\n",
       "                        if (nbb_cells[i].get_text() == nbb_unformatted_code) {\n",
       "                             nbb_cells[i].set_text(nbb_formatted_code);\n",
       "                        }\n",
       "                        break;\n",
       "                    }\n",
       "                }\n",
       "            }, 500);\n",
       "            "
      ],
      "text/plain": [
       "<IPython.core.display.Javascript object>"
      ]
     },
     "metadata": {},
     "output_type": "display_data"
    }
   ],
   "source": [
    "random_state = 123456\n",
    "\n",
    "n = 50\n",
    "height = 5\n",
    "d = 4\n",
    "X = np.ones((n, height * d))\n",
    "y = np.ones((n,))\n",
    "y[:25] = 0"
   ]
  },
  {
   "cell_type": "code",
   "execution_count": 5,
   "metadata": {},
   "outputs": [
    {
     "data": {
      "application/javascript": [
       "\n",
       "            setTimeout(function() {\n",
       "                var nbb_cell_id = 5;\n",
       "                var nbb_unformatted_code = \"splitter = Conv2DSplitter(X, y, max_features=1, feature_combinations=1.5,\\n        random_state=random_state, image_height=height, image_width=d, \\n        patch_height_max=5, patch_height_min=1, patch_width_min=1, patch_width_max=2)\";\n",
       "                var nbb_formatted_code = \"splitter = Conv2DSplitter(\\n    X,\\n    y,\\n    max_features=1,\\n    feature_combinations=1.5,\\n    random_state=random_state,\\n    image_height=height,\\n    image_width=d,\\n    patch_height_max=5,\\n    patch_height_min=1,\\n    patch_width_min=1,\\n    patch_width_max=2,\\n)\";\n",
       "                var nbb_cells = Jupyter.notebook.get_cells();\n",
       "                for (var i = 0; i < nbb_cells.length; ++i) {\n",
       "                    if (nbb_cells[i].input_prompt_number == nbb_cell_id) {\n",
       "                        if (nbb_cells[i].get_text() == nbb_unformatted_code) {\n",
       "                             nbb_cells[i].set_text(nbb_formatted_code);\n",
       "                        }\n",
       "                        break;\n",
       "                    }\n",
       "                }\n",
       "            }, 500);\n",
       "            "
      ],
      "text/plain": [
       "<IPython.core.display.Javascript object>"
      ]
     },
     "metadata": {},
     "output_type": "display_data"
    }
   ],
   "source": [
    "splitter = Conv2DSplitter(\n",
    "    X,\n",
    "    y,\n",
    "    max_features=1,\n",
    "    feature_combinations=1.5,\n",
    "    random_state=random_state,\n",
    "    image_height=height,\n",
    "    image_width=d,\n",
    "    patch_height_max=5,\n",
    "    patch_height_min=1,\n",
    "    patch_width_min=1,\n",
    "    patch_width_max=2,\n",
    ")"
   ]
  },
  {
   "cell_type": "code",
   "execution_count": 6,
   "metadata": {
    "tags": []
   },
   "outputs": [
    {
     "name": "stdout",
     "output_type": "stream",
     "text": [
      "692 µs ± 46.5 µs per loop (mean ± std. dev. of 7 runs, 1000 loops each)\n"
     ]
    },
    {
     "data": {
      "application/javascript": [
       "\n",
       "            setTimeout(function() {\n",
       "                var nbb_cell_id = 6;\n",
       "                var nbb_unformatted_code = \"%%timeit\\nproj_X, proj_mat = splitter.sample_proj_mat(sample_inds=np.arange(n))\";\n",
       "                var nbb_formatted_code = \"%%timeit\\nproj_X, proj_mat = splitter.sample_proj_mat(sample_inds=np.arange(n))\";\n",
       "                var nbb_cells = Jupyter.notebook.get_cells();\n",
       "                for (var i = 0; i < nbb_cells.length; ++i) {\n",
       "                    if (nbb_cells[i].input_prompt_number == nbb_cell_id) {\n",
       "                        if (nbb_cells[i].get_text() == nbb_unformatted_code) {\n",
       "                             nbb_cells[i].set_text(nbb_formatted_code);\n",
       "                        }\n",
       "                        break;\n",
       "                    }\n",
       "                }\n",
       "            }, 500);\n",
       "            "
      ],
      "text/plain": [
       "<IPython.core.display.Javascript object>"
      ]
     },
     "metadata": {},
     "output_type": "display_data"
    }
   ],
   "source": [
    "%%timeit\n",
    "proj_X, proj_mat = splitter.sample_proj_mat(sample_inds=np.arange(n))"
   ]
  },
  {
   "cell_type": "code",
   "execution_count": 8,
   "metadata": {},
   "outputs": [
    {
     "data": {
      "application/javascript": [
       "\n",
       "            setTimeout(function() {\n",
       "                var nbb_cell_id = 8;\n",
       "                var nbb_unformatted_code = \"proj_X, proj_mat = splitter.sample_proj_mat(sample_inds=np.arange(n))\";\n",
       "                var nbb_formatted_code = \"proj_X, proj_mat = splitter.sample_proj_mat(sample_inds=np.arange(n))\";\n",
       "                var nbb_cells = Jupyter.notebook.get_cells();\n",
       "                for (var i = 0; i < nbb_cells.length; ++i) {\n",
       "                    if (nbb_cells[i].input_prompt_number == nbb_cell_id) {\n",
       "                        if (nbb_cells[i].get_text() == nbb_unformatted_code) {\n",
       "                             nbb_cells[i].set_text(nbb_formatted_code);\n",
       "                        }\n",
       "                        break;\n",
       "                    }\n",
       "                }\n",
       "            }, 500);\n",
       "            "
      ],
      "text/plain": [
       "<IPython.core.display.Javascript object>"
      ]
     },
     "metadata": {},
     "output_type": "display_data"
    }
   ],
   "source": [
    "proj_X, proj_mat = splitter.sample_proj_mat(sample_inds=np.arange(n))"
   ]
  },
  {
   "cell_type": "code",
   "execution_count": 9,
   "metadata": {},
   "outputs": [
    {
     "name": "stdout",
     "output_type": "stream",
     "text": [
      "(50, 20) (20, 20) (50, 20)\n"
     ]
    },
    {
     "data": {
      "application/javascript": [
       "\n",
       "            setTimeout(function() {\n",
       "                var nbb_cell_id = 9;\n",
       "                var nbb_unformatted_code = \"print(proj_X.shape, proj_mat.shape, X.shape)\";\n",
       "                var nbb_formatted_code = \"print(proj_X.shape, proj_mat.shape, X.shape)\";\n",
       "                var nbb_cells = Jupyter.notebook.get_cells();\n",
       "                for (var i = 0; i < nbb_cells.length; ++i) {\n",
       "                    if (nbb_cells[i].input_prompt_number == nbb_cell_id) {\n",
       "                        if (nbb_cells[i].get_text() == nbb_unformatted_code) {\n",
       "                             nbb_cells[i].set_text(nbb_formatted_code);\n",
       "                        }\n",
       "                        break;\n",
       "                    }\n",
       "                }\n",
       "            }, 500);\n",
       "            "
      ],
      "text/plain": [
       "<IPython.core.display.Javascript object>"
      ]
     },
     "metadata": {},
     "output_type": "display_data"
    }
   ],
   "source": [
    "print(proj_X.shape, proj_mat.shape, X.shape)"
   ]
  },
  {
   "cell_type": "code",
   "execution_count": 19,
   "metadata": {},
   "outputs": [
    {
     "data": {
      "text/plain": [
       "[Text(0.5, 1.0, 'Sampled Projection Matrix - 2D Convolutional MORF'),\n",
       " Text(0.5, 28.5, 'Sampled Patches'),\n",
       " Text(28.5, 0.5, 'Vectorized Projections')]"
      ]
     },
     "execution_count": 19,
     "metadata": {},
     "output_type": "execute_result"
    },
    {
     "data": {
      "image/png": "[encoded data removed]",
      "text/plain": [
       "<Figure size 504x504 with 2 Axes>"
      ]
     },
     "metadata": {
      "needs_background": "light"
     },
     "output_type": "display_data"
    },
    {
     "data": {
      "application/javascript": [
       "\n",
       "            setTimeout(function() {\n",
       "                var nbb_cell_id = 19;\n",
       "                var nbb_unformatted_code = \"sns.set_context('talk', \\n#                 font_scale=1.5\\n               )\\nfig, ax = plt.subplots(figsize=(7,7))\\nsns.heatmap(proj_mat, annot=True, ax=ax)\\nax.set(\\n    title='Sampled Projection Matrix - 2D Convolutional MORF',\\n    xlabel='Sampled Patches',\\n    ylabel='Vectorized Projections'\\n)\";\n",
       "                var nbb_formatted_code = \"sns.set_context(\\n    \\\"talk\\\",\\n    #                 font_scale=1.5\\n)\\nfig, ax = plt.subplots(figsize=(7, 7))\\nsns.heatmap(proj_mat, annot=True, ax=ax)\\nax.set(\\n    title=\\\"Sampled Projection Matrix - 2D Convolutional MORF\\\",\\n    xlabel=\\\"Sampled Patches\\\",\\n    ylabel=\\\"Vectorized Projections\\\",\\n)\";\n",
       "                var nbb_cells = Jupyter.notebook.get_cells();\n",
       "                for (var i = 0; i < nbb_cells.length; ++i) {\n",
       "                    if (nbb_cells[i].input_prompt_number == nbb_cell_id) {\n",
       "                        if (nbb_cells[i].get_text() == nbb_unformatted_code) {\n",
       "                             nbb_cells[i].set_text(nbb_formatted_code);\n",
       "                        }\n",
       "                        break;\n",
       "                    }\n",
       "                }\n",
       "            }, 500);\n",
       "            "
      ],
      "text/plain": [
       "<IPython.core.display.Javascript object>"
      ]
     },
     "metadata": {},
     "output_type": "display_data"
    }
   ],
   "source": [
    "sns.set_context('talk', \n",
    "#                 font_scale=1.5\n",
    "               )\n",
    "fig, ax = plt.subplots(figsize=(7,7))\n",
    "sns.heatmap(proj_mat, annot=True, ax=ax)\n",
    "ax.set(\n",
    "    title='Sampled Projection Matrix - 2D Convolutional MORF',\n",
    "    xlabel='Sampled Patches',\n",
    "    ylabel='Vectorized Projections'\n",
    ")"
   ]
  },
  {
   "cell_type": "code",
   "execution_count": 44,
   "metadata": {},
   "outputs": [
    {
     "name": "stderr",
     "output_type": "stream",
     "text": [
      "<ipython-input-44-92ced63bb350>:32: UserWarning: This figure includes Axes that are not compatible with tight_layout, so results might be incorrect.\n",
      "  fig.tight_layout(rect=[0, 0, .9, 1])\n"
     ]
    },
    {
     "data": {
      "image/png": "[encoded data removed]",
      "text/plain": [
       "<Figure size 504x504 with 21 Axes>"
      ]
     },
     "metadata": {
      "needs_background": "light"
     },
     "output_type": "display_data"
    },
    {
     "data": {
      "application/javascript": [
       "\n",
       "            setTimeout(function() {\n",
       "                var nbb_cell_id = 44;\n",
       "                var nbb_unformatted_code = \"empty_mat = np.zeros((height, d))\\n\\nfig, axs = plt.subplots(3, np.ceil(proj_mat.shape[1] / 3).astype(int), \\n                        sharex=True, sharey=True,\\n                        figsize=(7, 7))\\naxs = axs.flat\\ncbar_ax = fig.add_axes([.91, .3, .03, .4])\\n\\nfor idx in range(proj_mat.shape[1]):\\n    proj_vec = proj_mat[:, idx]\\n    \\n    vec_idx = np.argwhere(proj_vec == 1)\\n    patch_idx = np.unravel_index(vec_idx, shape=(height, d))\\n    mat = empty_mat.copy()\\n    mat[patch_idx] = 1.0\\n    \\n    sns.heatmap(mat, ax=axs[idx], \\n                xticklabels=np.arange(d),\\n                yticklabels=np.arange(height),\\n                cbar=idx == 0,\\n                square=True,\\n                vmin=0, vmax=1,\\n                cbar_ax=None if idx else cbar_ax)\\n\\n# remove unused axes\\nidx += 1\\nwhile idx < len(axs):\\n    fig.delaxes(axs[idx])\\n    idx += 1\\n    \\nfig.suptitle('MORF 2D Convolutional Patches Sampled')\\nfig.tight_layout(rect=[0, 0, .9, 1])\";\n",
       "                var nbb_formatted_code = \"empty_mat = np.zeros((height, d))\\n\\nfig, axs = plt.subplots(\\n    3,\\n    np.ceil(proj_mat.shape[1] / 3).astype(int),\\n    sharex=True,\\n    sharey=True,\\n    figsize=(7, 7),\\n)\\naxs = axs.flat\\ncbar_ax = fig.add_axes([0.91, 0.3, 0.03, 0.4])\\n\\nfor idx in range(proj_mat.shape[1]):\\n    proj_vec = proj_mat[:, idx]\\n\\n    vec_idx = np.argwhere(proj_vec == 1)\\n    patch_idx = np.unravel_index(vec_idx, shape=(height, d))\\n    mat = empty_mat.copy()\\n    mat[patch_idx] = 1.0\\n\\n    sns.heatmap(\\n        mat,\\n        ax=axs[idx],\\n        xticklabels=np.arange(d),\\n        yticklabels=np.arange(height),\\n        cbar=idx == 0,\\n        square=True,\\n        vmin=0,\\n        vmax=1,\\n        cbar_ax=None if idx else cbar_ax,\\n    )\\n\\n# remove unused axes\\nidx += 1\\nwhile idx < len(axs):\\n    fig.delaxes(axs[idx])\\n    idx += 1\\n\\nfig.suptitle(\\\"MORF 2D Convolutional Patches Sampled\\\")\\nfig.tight_layout(rect=[0, 0, 0.9, 1])\";\n",
       "                var nbb_cells = Jupyter.notebook.get_cells();\n",
       "                for (var i = 0; i < nbb_cells.length; ++i) {\n",
       "                    if (nbb_cells[i].input_prompt_number == nbb_cell_id) {\n",
       "                        if (nbb_cells[i].get_text() == nbb_unformatted_code) {\n",
       "                             nbb_cells[i].set_text(nbb_formatted_code);\n",
       "                        }\n",
       "                        break;\n",
       "                    }\n",
       "                }\n",
       "            }, 500);\n",
       "            "
      ],
      "text/plain": [
       "<IPython.core.display.Javascript object>"
      ]
     },
     "metadata": {},
     "output_type": "display_data"
    }
   ],
   "source": [
    "empty_mat = np.zeros((height, d))\n",
    "\n",
    "fig, axs = plt.subplots(3, np.ceil(proj_mat.shape[1] / 3).astype(int), \n",
    "                        sharex=True, sharey=True,\n",
    "                        figsize=(7, 7))\n",
    "axs = axs.flat\n",
    "cbar_ax = fig.add_axes([.91, .3, .03, .4])\n",
    "\n",
    "for idx in range(proj_mat.shape[1]):\n",
    "    proj_vec = proj_mat[:, idx]\n",
    "    \n",
    "    vec_idx = np.argwhere(proj_vec == 1)\n",
    "    patch_idx = np.unravel_index(vec_idx, shape=(height, d))\n",
    "    mat = empty_mat.copy()\n",
    "    mat[patch_idx] = 1.0\n",
    "    \n",
    "    sns.heatmap(mat, ax=axs[idx], \n",
    "                xticklabels=np.arange(d),\n",
    "                yticklabels=np.arange(height),\n",
    "                cbar=idx == 0,\n",
    "                square=True,\n",
    "                vmin=0, vmax=1,\n",
    "                cbar_ax=None if idx else cbar_ax)\n",
    "\n",
    "# remove unused axes\n",
    "idx += 1\n",
    "while idx < len(axs):\n",
    "    fig.delaxes(axs[idx])\n",
    "    idx += 1\n",
    "    \n",
    "fig.suptitle('MORF 2D Convolutional Patches Sampled')\n",
    "fig.tight_layout(rect=[0, 0, .9, 1])"
   ]
  },
  {
   "cell_type": "markdown",
   "metadata": {},
   "source": [
    "## Discontiguous Sample"
   ]
  },
  {
   "cell_type": "code",
   "execution_count": 60,
   "metadata": {},
   "outputs": [
    {
     "data": {
      "application/javascript": [
       "\n",
       "            setTimeout(function() {\n",
       "                var nbb_cell_id = 60;\n",
       "                var nbb_unformatted_code = \"random_state = 123456\\n\\nn = 50\\nheight = 5\\nd = 4\\nX = np.ones((n, height * d))\\ny = np.ones((n,))\\ny[:25] = 0\";\n",
       "                var nbb_formatted_code = \"random_state = 123456\\n\\nn = 50\\nheight = 5\\nd = 4\\nX = np.ones((n, height * d))\\ny = np.ones((n,))\\ny[:25] = 0\";\n",
       "                var nbb_cells = Jupyter.notebook.get_cells();\n",
       "                for (var i = 0; i < nbb_cells.length; ++i) {\n",
       "                    if (nbb_cells[i].input_prompt_number == nbb_cell_id) {\n",
       "                        if (nbb_cells[i].get_text() == nbb_unformatted_code) {\n",
       "                             nbb_cells[i].set_text(nbb_formatted_code);\n",
       "                        }\n",
       "                        break;\n",
       "                    }\n",
       "                }\n",
       "            }, 500);\n",
       "            "
      ],
      "text/plain": [
       "<IPython.core.display.Javascript object>"
      ]
     },
     "metadata": {},
     "output_type": "display_data"
    }
   ],
   "source": [
    "random_state = 123456\n",
    "\n",
    "n = 50\n",
    "height = 5\n",
    "d = 4\n",
    "X = np.ones((n, height * d))\n",
    "y = np.ones((n,))\n",
    "y[:25] = 0"
   ]
  },
  {
   "cell_type": "code",
   "execution_count": 71,
   "metadata": {},
   "outputs": [
    {
     "data": {
      "application/javascript": [
       "\n",
       "            setTimeout(function() {\n",
       "                var nbb_cell_id = 71;\n",
       "                var nbb_unformatted_code = \"splitter = Conv2DSplitter(\\n    X,\\n    y,\\n    max_features=1,\\n    feature_combinations=1.5,\\n    random_state=random_state,\\n    image_height=height,\\n    image_width=d,\\n    patch_height_max=5,\\n    patch_height_min=1,\\n    patch_width_min=1,\\n    patch_width_max=2,\\n    discontiguous_height=True,\\n    discontiguous_width=False,\\n)\";\n",
       "                var nbb_formatted_code = \"splitter = Conv2DSplitter(\\n    X,\\n    y,\\n    max_features=1,\\n    feature_combinations=1.5,\\n    random_state=random_state,\\n    image_height=height,\\n    image_width=d,\\n    patch_height_max=5,\\n    patch_height_min=1,\\n    patch_width_min=1,\\n    patch_width_max=2,\\n    discontiguous_height=True,\\n    discontiguous_width=False,\\n)\";\n",
       "                var nbb_cells = Jupyter.notebook.get_cells();\n",
       "                for (var i = 0; i < nbb_cells.length; ++i) {\n",
       "                    if (nbb_cells[i].input_prompt_number == nbb_cell_id) {\n",
       "                        if (nbb_cells[i].get_text() == nbb_unformatted_code) {\n",
       "                             nbb_cells[i].set_text(nbb_formatted_code);\n",
       "                        }\n",
       "                        break;\n",
       "                    }\n",
       "                }\n",
       "            }, 500);\n",
       "            "
      ],
      "text/plain": [
       "<IPython.core.display.Javascript object>"
      ]
     },
     "metadata": {},
     "output_type": "display_data"
    }
   ],
   "source": [
    "splitter = Conv2DSplitter(\n",
    "    X,\n",
    "    y,\n",
    "    max_features=1,\n",
    "    feature_combinations=1.5,\n",
    "    random_state=random_state,\n",
    "    image_height=height,\n",
    "    image_width=d,\n",
    "    patch_height_max=5,\n",
    "    patch_height_min=1,\n",
    "    patch_width_min=1,\n",
    "    patch_width_max=2,\n",
    "    discontiguous_height=True,\n",
    "    discontiguous_width=False,\n",
    ")"
   ]
  },
  {
   "cell_type": "code",
   "execution_count": 72,
   "metadata": {},
   "outputs": [
    {
     "data": {
      "application/javascript": [
       "\n",
       "            setTimeout(function() {\n",
       "                var nbb_cell_id = 72;\n",
       "                var nbb_unformatted_code = \"proj_X, proj_mat = splitter.sample_proj_mat(sample_inds=np.arange(n))\";\n",
       "                var nbb_formatted_code = \"proj_X, proj_mat = splitter.sample_proj_mat(sample_inds=np.arange(n))\";\n",
       "                var nbb_cells = Jupyter.notebook.get_cells();\n",
       "                for (var i = 0; i < nbb_cells.length; ++i) {\n",
       "                    if (nbb_cells[i].input_prompt_number == nbb_cell_id) {\n",
       "                        if (nbb_cells[i].get_text() == nbb_unformatted_code) {\n",
       "                             nbb_cells[i].set_text(nbb_formatted_code);\n",
       "                        }\n",
       "                        break;\n",
       "                    }\n",
       "                }\n",
       "            }, 500);\n",
       "            "
      ],
      "text/plain": [
       "<IPython.core.display.Javascript object>"
      ]
     },
     "metadata": {},
     "output_type": "display_data"
    }
   ],
   "source": [
    "proj_X, proj_mat = splitter.sample_proj_mat(sample_inds=np.arange(n))"
   ]
  },
  {
   "cell_type": "code",
   "execution_count": 73,
   "metadata": {},
   "outputs": [
    {
     "name": "stdout",
     "output_type": "stream",
     "text": [
      "(50, 20) (20, 20) (50, 20)\n"
     ]
    },
    {
     "data": {
      "application/javascript": [
       "\n",
       "            setTimeout(function() {\n",
       "                var nbb_cell_id = 73;\n",
       "                var nbb_unformatted_code = \"print(proj_X.shape, proj_mat.shape, X.shape)\";\n",
       "                var nbb_formatted_code = \"print(proj_X.shape, proj_mat.shape, X.shape)\";\n",
       "                var nbb_cells = Jupyter.notebook.get_cells();\n",
       "                for (var i = 0; i < nbb_cells.length; ++i) {\n",
       "                    if (nbb_cells[i].input_prompt_number == nbb_cell_id) {\n",
       "                        if (nbb_cells[i].get_text() == nbb_unformatted_code) {\n",
       "                             nbb_cells[i].set_text(nbb_formatted_code);\n",
       "                        }\n",
       "                        break;\n",
       "                    }\n",
       "                }\n",
       "            }, 500);\n",
       "            "
      ],
      "text/plain": [
       "<IPython.core.display.Javascript object>"
      ]
     },
     "metadata": {},
     "output_type": "display_data"
    }
   ],
   "source": [
    "print(proj_X.shape, proj_mat.shape, X.shape)"
   ]
  },
  {
   "cell_type": "code",
   "execution_count": 74,
   "metadata": {},
   "outputs": [
    {
     "data": {
      "text/plain": [
       "[Text(0.5, 1.0, 'Sampled Projection Matrix - 2D Convolutional MORF'),\n",
       " Text(0.5, 28.5, 'Sampled Patches'),\n",
       " Text(28.5, 0.5, 'Vectorized Projections')]"
      ]
     },
     "execution_count": 74,
     "metadata": {},
     "output_type": "execute_result"
    },
    {
     "data": {
      "image/png": "[encoded data removed]",
      "text/plain": [
       "<Figure size 504x504 with 2 Axes>"
      ]
     },
     "metadata": {
      "needs_background": "light"
     },
     "output_type": "display_data"
    },
    {
     "data": {
      "application/javascript": [
       "\n",
       "            setTimeout(function() {\n",
       "                var nbb_cell_id = 74;\n",
       "                var nbb_unformatted_code = \"sns.set_context('talk', \\n#                 font_scale=1.5\\n               )\\nfig, ax = plt.subplots(figsize=(7,7))\\nsns.heatmap(proj_mat, annot=True, ax=ax)\\nax.set(\\n    title='Sampled Projection Matrix - 2D Convolutional MORF',\\n    xlabel='Sampled Patches',\\n    ylabel='Vectorized Projections'\\n)\";\n",
       "                var nbb_formatted_code = \"sns.set_context(\\n    \\\"talk\\\",\\n    #                 font_scale=1.5\\n)\\nfig, ax = plt.subplots(figsize=(7, 7))\\nsns.heatmap(proj_mat, annot=True, ax=ax)\\nax.set(\\n    title=\\\"Sampled Projection Matrix - 2D Convolutional MORF\\\",\\n    xlabel=\\\"Sampled Patches\\\",\\n    ylabel=\\\"Vectorized Projections\\\",\\n)\";\n",
       "                var nbb_cells = Jupyter.notebook.get_cells();\n",
       "                for (var i = 0; i < nbb_cells.length; ++i) {\n",
       "                    if (nbb_cells[i].input_prompt_number == nbb_cell_id) {\n",
       "                        if (nbb_cells[i].get_text() == nbb_unformatted_code) {\n",
       "                             nbb_cells[i].set_text(nbb_formatted_code);\n",
       "                        }\n",
       "                        break;\n",
       "                    }\n",
       "                }\n",
       "            }, 500);\n",
       "            "
      ],
      "text/plain": [
       "<IPython.core.display.Javascript object>"
      ]
     },
     "metadata": {},
     "output_type": "display_data"
    }
   ],
   "source": [
    "sns.set_context(\n",
    "    \"talk\",\n",
    "    #                 font_scale=1.5\n",
    ")\n",
    "fig, ax = plt.subplots(figsize=(7, 7))\n",
    "sns.heatmap(proj_mat, annot=True, ax=ax)\n",
    "ax.set(\n",
    "    title=\"Sampled Projection Matrix - 2D Convolutional MORF\",\n",
    "    xlabel=\"Sampled Patches\",\n",
    "    ylabel=\"Vectorized Projections\",\n",
    ")"
   ]
  },
  {
   "cell_type": "code",
   "execution_count": 75,
   "metadata": {},
   "outputs": [
    {
     "name": "stderr",
     "output_type": "stream",
     "text": [
      "<ipython-input-75-a343e31dc33b>:33: UserWarning: This figure includes Axes that are not compatible with tight_layout, so results might be incorrect.\n",
      "  fig.tight_layout(rect=[0, 0, .9, 1])\n"
     ]
    },
    {
     "data": {
      "image/png": "[encoded data removed]",
      "text/plain": [
       "<Figure size 504x504 with 21 Axes>"
      ]
     },
     "metadata": {
      "needs_background": "light"
     },
     "output_type": "display_data"
    },
    {
     "data": {
      "application/javascript": [
       "\n",
       "            setTimeout(function() {\n",
       "                var nbb_cell_id = 75;\n",
       "                var nbb_unformatted_code = \"empty_mat = np.zeros((height, d))\\n\\nsns.set_context('paper')\\nfig, axs = plt.subplots(3, np.ceil(proj_mat.shape[1] / 3).astype(int), \\n                        sharex=True, sharey=True,\\n                        figsize=(7, 7))\\naxs = axs.flat\\ncbar_ax = fig.add_axes([.91, .3, .03, .4])\\n\\nfor idx in range(proj_mat.shape[1]):\\n    proj_vec = proj_mat[:, idx]\\n    \\n    vec_idx = np.argwhere(proj_vec == 1)\\n    patch_idx = np.unravel_index(vec_idx, shape=(height, d))\\n    mat = empty_mat.copy()\\n    mat[patch_idx] = 1.0\\n    \\n    sns.heatmap(mat, ax=axs[idx], \\n                xticklabels=np.arange(d),\\n                yticklabels=np.arange(height),\\n                cbar=idx == 0,\\n                square=True,\\n                vmin=0, vmax=1,\\n                cbar_ax=None if idx else cbar_ax)\\n\\n# remove unused axes\\nidx += 1\\nwhile idx < len(axs):\\n    fig.delaxes(axs[idx])\\n    idx += 1\\n    \\nfig.suptitle('MORF 2D Discontiguous Convolutional Patches Sampled')\\nfig.tight_layout(rect=[0, 0, .9, 1])\";\n",
       "                var nbb_formatted_code = \"empty_mat = np.zeros((height, d))\\n\\nsns.set_context(\\\"paper\\\")\\nfig, axs = plt.subplots(\\n    3,\\n    np.ceil(proj_mat.shape[1] / 3).astype(int),\\n    sharex=True,\\n    sharey=True,\\n    figsize=(7, 7),\\n)\\naxs = axs.flat\\ncbar_ax = fig.add_axes([0.91, 0.3, 0.03, 0.4])\\n\\nfor idx in range(proj_mat.shape[1]):\\n    proj_vec = proj_mat[:, idx]\\n\\n    vec_idx = np.argwhere(proj_vec == 1)\\n    patch_idx = np.unravel_index(vec_idx, shape=(height, d))\\n    mat = empty_mat.copy()\\n    mat[patch_idx] = 1.0\\n\\n    sns.heatmap(\\n        mat,\\n        ax=axs[idx],\\n        xticklabels=np.arange(d),\\n        yticklabels=np.arange(height),\\n        cbar=idx == 0,\\n        square=True,\\n        vmin=0,\\n        vmax=1,\\n        cbar_ax=None if idx else cbar_ax,\\n    )\\n\\n# remove unused axes\\nidx += 1\\nwhile idx < len(axs):\\n    fig.delaxes(axs[idx])\\n    idx += 1\\n\\nfig.suptitle(\\\"MORF 2D Discontiguous Convolutional Patches Sampled\\\")\\nfig.tight_layout(rect=[0, 0, 0.9, 1])\";\n",
       "                var nbb_cells = Jupyter.notebook.get_cells();\n",
       "                for (var i = 0; i < nbb_cells.length; ++i) {\n",
       "                    if (nbb_cells[i].input_prompt_number == nbb_cell_id) {\n",
       "                        if (nbb_cells[i].get_text() == nbb_unformatted_code) {\n",
       "                             nbb_cells[i].set_text(nbb_formatted_code);\n",
       "                        }\n",
       "                        break;\n",
       "                    }\n",
       "                }\n",
       "            }, 500);\n",
       "            "
      ],
      "text/plain": [
       "<IPython.core.display.Javascript object>"
      ]
     },
     "metadata": {},
     "output_type": "display_data"
    }
   ],
   "source": [
    "empty_mat = np.zeros((height, d))\n",
    "\n",
    "sns.set_context(\"paper\")\n",
    "fig, axs = plt.subplots(\n",
    "    3,\n",
    "    np.ceil(proj_mat.shape[1] / 3).astype(int),\n",
    "    sharex=True,\n",
    "    sharey=True,\n",
    "    figsize=(7, 7),\n",
    ")\n",
    "axs = axs.flat\n",
    "cbar_ax = fig.add_axes([0.91, 0.3, 0.03, 0.4])\n",
    "\n",
    "for idx in range(proj_mat.shape[1]):\n",
    "    proj_vec = proj_mat[:, idx]\n",
    "\n",
    "    vec_idx = np.argwhere(proj_vec == 1)\n",
    "    patch_idx = np.unravel_index(vec_idx, shape=(height, d))\n",
    "    mat = empty_mat.copy()\n",
    "    mat[patch_idx] = 1.0\n",
    "\n",
    "    sns.heatmap(\n",
    "        mat,\n",
    "        ax=axs[idx],\n",
    "        xticklabels=np.arange(d),\n",
    "        yticklabels=np.arange(height),\n",
    "        cbar=idx == 0,\n",
    "        square=True,\n",
    "        vmin=0,\n",
    "        vmax=1,\n",
    "        cbar_ax=None if idx else cbar_ax,\n",
    "    )\n",
    "\n",
    "# remove unused axes\n",
    "idx += 1\n",
    "while idx < len(axs):\n",
    "    fig.delaxes(axs[idx])\n",
    "    idx += 1\n",
    "\n",
    "fig.suptitle(\"MORF 2D Discontiguous Convolutional Patches Sampled\")\n",
    "fig.tight_layout(rect=[0, 0, 0.9, 1])"
   ]
  },
  {
   "cell_type": "markdown",
   "metadata": {},
   "source": [
    "## Profiling the Projection Matrix Sampling\n",
    "\n",
    "Let's increase the sample size and the height and the width of samples.\n",
    "\n",
    "Note that if ``height`` or ``d`` is increased too much... then it's pretty slow currently."
   ]
  },
  {
   "cell_type": "code",
   "execution_count": 44,
   "metadata": {},
   "outputs": [
    {
     "data": {
      "application/javascript": [
       "\n",
       "            setTimeout(function() {\n",
       "                var nbb_cell_id = 44;\n",
       "                var nbb_unformatted_code = \"n = 1000\\nheight = 100\\nd = 80\\nX = np.ones((n, height * d))\\ny = np.ones((n,))\\ny[:25] = 0\";\n",
       "                var nbb_formatted_code = \"n = 1000\\nheight = 100\\nd = 80\\nX = np.ones((n, height * d))\\ny = np.ones((n,))\\ny[:25] = 0\";\n",
       "                var nbb_cells = Jupyter.notebook.get_cells();\n",
       "                for (var i = 0; i < nbb_cells.length; ++i) {\n",
       "                    if (nbb_cells[i].input_prompt_number == nbb_cell_id) {\n",
       "                        if (nbb_cells[i].get_text() == nbb_unformatted_code) {\n",
       "                             nbb_cells[i].set_text(nbb_formatted_code);\n",
       "                        }\n",
       "                        break;\n",
       "                    }\n",
       "                }\n",
       "            }, 500);\n",
       "            "
      ],
      "text/plain": [
       "<IPython.core.display.Javascript object>"
      ]
     },
     "metadata": {},
     "output_type": "display_data"
    }
   ],
   "source": [
    "n = 1000\n",
    "height = 100\n",
    "d = 80\n",
    "X = np.ones((n, height * d))\n",
    "y = np.ones((n,))\n",
    "y[:25] = 0"
   ]
  },
  {
   "cell_type": "code",
   "execution_count": 45,
   "metadata": {},
   "outputs": [
    {
     "data": {
      "application/javascript": [
       "\n",
       "            setTimeout(function() {\n",
       "                var nbb_cell_id = 45;\n",
       "                var nbb_unformatted_code = \"splitter = Conv2DSplitter(X, y, max_features=1, feature_combinations=1.5,\\n        random_state=random_state, image_height=height, image_width=d, \\n        patch_height_max=5, patch_height_min=1, patch_width_min=1, patch_width_max=2)\";\n",
       "                var nbb_formatted_code = \"splitter = Conv2DSplitter(\\n    X,\\n    y,\\n    max_features=1,\\n    feature_combinations=1.5,\\n    random_state=random_state,\\n    image_height=height,\\n    image_width=d,\\n    patch_height_max=5,\\n    patch_height_min=1,\\n    patch_width_min=1,\\n    patch_width_max=2,\\n)\";\n",
       "                var nbb_cells = Jupyter.notebook.get_cells();\n",
       "                for (var i = 0; i < nbb_cells.length; ++i) {\n",
       "                    if (nbb_cells[i].input_prompt_number == nbb_cell_id) {\n",
       "                        if (nbb_cells[i].get_text() == nbb_unformatted_code) {\n",
       "                             nbb_cells[i].set_text(nbb_formatted_code);\n",
       "                        }\n",
       "                        break;\n",
       "                    }\n",
       "                }\n",
       "            }, 500);\n",
       "            "
      ],
      "text/plain": [
       "<IPython.core.display.Javascript object>"
      ]
     },
     "metadata": {},
     "output_type": "display_data"
    }
   ],
   "source": [
    "splitter = Conv2DSplitter(X, y, max_features=1, feature_combinations=1.5,\n",
    "        random_state=random_state, image_height=height, image_width=d, \n",
    "        patch_height_max=5, patch_height_min=1, patch_width_min=1, patch_width_max=2)"
   ]
  },
  {
   "cell_type": "code",
   "execution_count": 47,
   "metadata": {},
   "outputs": [
    {
     "name": "stdout",
     "output_type": "stream",
     "text": [
      "1.53 s ± 101 ms per loop (mean ± std. dev. of 7 runs, 1 loop each)\n"
     ]
    },
    {
     "data": {
      "application/javascript": [
       "\n",
       "            setTimeout(function() {\n",
       "                var nbb_cell_id = 47;\n",
       "                var nbb_unformatted_code = \"%%timeit\\nproj_X, proj_mat = splitter.sample_proj_mat(sample_inds=np.arange(n))\";\n",
       "                var nbb_formatted_code = \"%%timeit\\nproj_X, proj_mat = splitter.sample_proj_mat(sample_inds=np.arange(n))\";\n",
       "                var nbb_cells = Jupyter.notebook.get_cells();\n",
       "                for (var i = 0; i < nbb_cells.length; ++i) {\n",
       "                    if (nbb_cells[i].input_prompt_number == nbb_cell_id) {\n",
       "                        if (nbb_cells[i].get_text() == nbb_unformatted_code) {\n",
       "                             nbb_cells[i].set_text(nbb_formatted_code);\n",
       "                        }\n",
       "                        break;\n",
       "                    }\n",
       "                }\n",
       "            }, 500);\n",
       "            "
      ],
      "text/plain": [
       "<IPython.core.display.Javascript object>"
      ]
     },
     "metadata": {},
     "output_type": "display_data"
    }
   ],
   "source": [
    "%%timeit\n",
    "proj_X, proj_mat = splitter.sample_proj_mat(sample_inds=np.arange(n))"
   ]
  },
  {
   "cell_type": "code",
   "execution_count": 34,
   "metadata": {},
   "outputs": [
    {
     "name": "stdout",
     "output_type": "stream",
     "text": [
      "165 ms ± 7.77 ms per loop (mean ± std. dev. of 7 runs, 10 loops each)\n"
     ]
    },
    {
     "data": {
      "application/javascript": [
       "\n",
       "            setTimeout(function() {\n",
       "                var nbb_cell_id = 34;\n",
       "                var nbb_unformatted_code = \"%%timeit\\nproj_X, proj_mat = splitter.sample_proj_mat(sample_inds=np.arange(n))\";\n",
       "                var nbb_formatted_code = \"%%timeit\\nproj_X, proj_mat = splitter.sample_proj_mat(sample_inds=np.arange(n))\";\n",
       "                var nbb_cells = Jupyter.notebook.get_cells();\n",
       "                for (var i = 0; i < nbb_cells.length; ++i) {\n",
       "                    if (nbb_cells[i].input_prompt_number == nbb_cell_id) {\n",
       "                        if (nbb_cells[i].get_text() == nbb_unformatted_code) {\n",
       "                             nbb_cells[i].set_text(nbb_formatted_code);\n",
       "                        }\n",
       "                        break;\n",
       "                    }\n",
       "                }\n",
       "            }, 500);\n",
       "            "
      ],
      "text/plain": [
       "<IPython.core.display.Javascript object>"
      ]
     },
     "metadata": {},
     "output_type": "display_data"
    }
   ],
   "source": [
    "%%timeit\n",
    "proj_X, proj_mat = splitter.sample_proj_mat(sample_inds=np.arange(n))"
   ]
  },
  {
   "cell_type": "code",
   "execution_count": 48,
   "metadata": {},
   "outputs": [
    {
     "name": "stdout",
     "output_type": "stream",
     "text": [
      " "
     ]
    },
    {
     "data": {
      "application/javascript": [
       "\n",
       "            setTimeout(function() {\n",
       "                var nbb_cell_id = 48;\n",
       "                var nbb_unformatted_code = \"%%prun\\nproj_X, proj_mat = splitter.sample_proj_mat(sample_inds=np.arange(n))\";\n",
       "                var nbb_formatted_code = \"%%prun\\nproj_X, proj_mat = splitter.sample_proj_mat(sample_inds=np.arange(n))\";\n",
       "                var nbb_cells = Jupyter.notebook.get_cells();\n",
       "                for (var i = 0; i < nbb_cells.length; ++i) {\n",
       "                    if (nbb_cells[i].input_prompt_number == nbb_cell_id) {\n",
       "                        if (nbb_cells[i].get_text() == nbb_unformatted_code) {\n",
       "                             nbb_cells[i].set_text(nbb_formatted_code);\n",
       "                        }\n",
       "                        break;\n",
       "                    }\n",
       "                }\n",
       "            }, 500);\n",
       "            "
      ],
      "text/plain": [
       "<IPython.core.display.Javascript object>"
      ]
     },
     "metadata": {},
     "output_type": "display_data"
    },
    {
     "data": {
      "text/plain": [
       "         280026 function calls in 1.675 seconds\n",
       "\n",
       "   Ordered by: internal time\n",
       "\n",
       "   ncalls  tottime  percall  cumtime  percall filename:lineno(function)\n",
       "        1    1.268    1.268    1.609    1.609 morf.py:194(sample_proj_mat)\n",
       "     8000    0.092    0.000    0.340    0.000 morf.py:131(_get_rand_patch_idx)\n",
       "        1    0.067    0.067    1.675    1.675 <string>:1(<module>)\n",
       "    24002    0.058    0.000    0.144    0.000 {built-in method numpy.core._multiarray_umath.implement_array_function}\n",
       "     8002    0.044    0.000    0.044    0.000 {method 'randint' of 'numpy.random.mtrand.RandomState' objects}\n",
       "     8000    0.035    0.000    0.086    0.000 index_tricks.py:35(ix_)\n",
       "    16001    0.026    0.000    0.026    0.000 {built-in method numpy.arange}\n",
       "    32000    0.014    0.000    0.021    0.000 numerictypes.py:285(issubclass_)\n",
       "    16000    0.014    0.000    0.037    0.000 numerictypes.py:359(issubdtype)\n",
       "    16000    0.009    0.000    0.009    0.000 {method 'reshape' of 'numpy.ndarray' objects}\n",
       "    48000    0.008    0.000    0.008    0.000 {built-in method builtins.issubclass}\n",
       "     8000    0.007    0.000    0.040    0.000 morf.py:191(_compute_vectorized_index_in_data)\n",
       "     8000    0.006    0.000    0.033    0.000 <__array_function__ internals>:2(unravel_index)\n",
       "     8000    0.006    0.000    0.041    0.000 morf.py:186(_compute_index_in_vectorized_data)\n",
       "     8000    0.006    0.000    0.035    0.000 <__array_function__ internals>:2(ravel_multi_index)\n",
       "     8000    0.005    0.000    0.097    0.000 <__array_function__ internals>:2(ix_)\n",
       "    16000    0.002    0.000    0.002    0.000 {built-in method builtins.isinstance}\n",
       "    16000    0.002    0.000    0.002    0.000 {method 'append' of 'list' objects}\n",
       "     8000    0.002    0.000    0.002    0.000 multiarray.py:1001(unravel_index)\n",
       "     8000    0.001    0.000    0.001    0.000 {built-in method builtins.len}\n",
       "     8000    0.001    0.000    0.001    0.000 multiarray.py:940(ravel_multi_index)\n",
       "     8000    0.001    0.000    0.001    0.000 index_tricks.py:31(_ix__dispatcher)\n",
       "        1    0.000    0.000    1.675    1.675 {built-in method builtins.exec}\n",
       "        1    0.000    0.000    0.000    0.000 {built-in method numpy.zeros}\n",
       "        2    0.000    0.000    0.000    0.000 {method 'reduce' of 'numpy.ufunc' objects}\n",
       "        2    0.000    0.000    0.000    0.000 fromnumeric.py:70(_wrapreduction)\n",
       "        2    0.000    0.000    0.000    0.000 <__array_function__ internals>:2(prod)\n",
       "        2    0.000    0.000    0.000    0.000 fromnumeric.py:2912(prod)\n",
       "        2    0.000    0.000    0.000    0.000 {built-in method builtins.getattr}\n",
       "        2    0.000    0.000    0.000    0.000 fromnumeric.py:71(<dictcomp>)\n",
       "        1    0.000    0.000    0.000    0.000 {method 'disable' of '_lsprof.Profiler' objects}\n",
       "        2    0.000    0.000    0.000    0.000 {method 'items' of 'dict' objects}\n",
       "        2    0.000    0.000    0.000    0.000 fromnumeric.py:2907(_prod_dispatcher)"
      ]
     },
     "metadata": {},
     "output_type": "display_data"
    }
   ],
   "source": [
    "%%prun\n",
    "proj_X, proj_mat = splitter.sample_proj_mat(sample_inds=np.arange(n))"
   ]
  },
  {
   "cell_type": "code",
   "execution_count": 42,
   "metadata": {},
   "outputs": [
    {
     "name": "stdout",
     "output_type": "stream",
     "text": [
      " "
     ]
    },
    {
     "data": {
      "application/javascript": [
       "\n",
       "            setTimeout(function() {\n",
       "                var nbb_cell_id = 42;\n",
       "                var nbb_unformatted_code = \"%%prun\\nproj_X, proj_mat = splitter.sample_proj_mat(sample_inds=np.arange(n))\";\n",
       "                var nbb_formatted_code = \"%%prun\\nproj_X, proj_mat = splitter.sample_proj_mat(sample_inds=np.arange(n))\";\n",
       "                var nbb_cells = Jupyter.notebook.get_cells();\n",
       "                for (var i = 0; i < nbb_cells.length; ++i) {\n",
       "                    if (nbb_cells[i].input_prompt_number == nbb_cell_id) {\n",
       "                        if (nbb_cells[i].get_text() == nbb_unformatted_code) {\n",
       "                             nbb_cells[i].set_text(nbb_formatted_code);\n",
       "                        }\n",
       "                        break;\n",
       "                    }\n",
       "                }\n",
       "            }, 500);\n",
       "            "
      ],
      "text/plain": [
       "<IPython.core.display.Javascript object>"
      ]
     },
     "metadata": {},
     "output_type": "display_data"
    },
    {
     "data": {
      "text/plain": [
       "         288026 function calls in 1.677 seconds\n",
       "\n",
       "   Ordered by: internal time\n",
       "\n",
       "   ncalls  tottime  percall  cumtime  percall filename:lineno(function)\n",
       "        1    1.294    1.294    1.669    1.669 morf.py:192(sample_proj_mat)\n",
       "     8000    0.082    0.000    0.131    0.000 morf.py:131(_get_rand_patch_idx)\n",
       "    24002    0.065    0.000    0.159    0.000 {built-in method numpy.core._multiarray_umath.implement_array_function}\n",
       "     8002    0.050    0.000    0.050    0.000 {method 'randint' of 'numpy.random.mtrand.RandomState' objects}\n",
       "     8000    0.039    0.000    0.094    0.000 index_tricks.py:35(ix_)\n",
       "    16001    0.029    0.000    0.029    0.000 {built-in method numpy.arange}\n",
       "     8000    0.019    0.000    0.197    0.000 morf.py:160(_get_patch_idx)\n",
       "    16000    0.015    0.000    0.039    0.000 numerictypes.py:359(issubdtype)\n",
       "    32000    0.015    0.000    0.022    0.000 numerictypes.py:285(issubclass_)\n",
       "    16000    0.010    0.000    0.010    0.000 {method 'reshape' of 'numpy.ndarray' objects}\n",
       "    48000    0.009    0.000    0.009    0.000 {built-in method builtins.issubclass}\n",
       "     8000    0.008    0.000    0.044    0.000 morf.py:189(_compute_vectorized_index_in_data)\n",
       "        1    0.008    0.008    1.676    1.676 <string>:1(<module>)\n",
       "     8000    0.007    0.000    0.046    0.000 morf.py:184(_compute_index_in_vectorized_data)\n",
       "     8000    0.007    0.000    0.036    0.000 <__array_function__ internals>:2(unravel_index)\n",
       "     8000    0.006    0.000    0.039    0.000 <__array_function__ internals>:2(ravel_multi_index)\n",
       "     8000    0.005    0.000    0.106    0.000 <__array_function__ internals>:2(ix_)\n",
       "    16000    0.002    0.000    0.002    0.000 {built-in method builtins.isinstance}\n",
       "    16000    0.002    0.000    0.002    0.000 {method 'append' of 'list' objects}\n",
       "     8000    0.002    0.000    0.002    0.000 multiarray.py:1001(unravel_index)\n",
       "     8000    0.001    0.000    0.001    0.000 {built-in method builtins.len}\n",
       "     8000    0.001    0.000    0.001    0.000 multiarray.py:940(ravel_multi_index)\n",
       "     8000    0.001    0.000    0.001    0.000 index_tricks.py:31(_ix__dispatcher)\n",
       "        1    0.000    0.000    0.000    0.000 {built-in method numpy.zeros}\n",
       "        1    0.000    0.000    1.677    1.677 {built-in method builtins.exec}\n",
       "        2    0.000    0.000    0.000    0.000 {method 'reduce' of 'numpy.ufunc' objects}\n",
       "        2    0.000    0.000    0.000    0.000 fromnumeric.py:70(_wrapreduction)\n",
       "        2    0.000    0.000    0.000    0.000 <__array_function__ internals>:2(prod)\n",
       "        2    0.000    0.000    0.000    0.000 fromnumeric.py:2912(prod)\n",
       "        2    0.000    0.000    0.000    0.000 fromnumeric.py:71(<dictcomp>)\n",
       "        2    0.000    0.000    0.000    0.000 {built-in method builtins.getattr}\n",
       "        1    0.000    0.000    0.000    0.000 {method 'disable' of '_lsprof.Profiler' objects}\n",
       "        2    0.000    0.000    0.000    0.000 fromnumeric.py:2907(_prod_dispatcher)\n",
       "        2    0.000    0.000    0.000    0.000 {method 'items' of 'dict' objects}"
      ]
     },
     "metadata": {},
     "output_type": "display_data"
    }
   ],
   "source": [
    "%%prun\n",
    "proj_X, proj_mat = splitter.sample_proj_mat(sample_inds=np.arange(n))"
   ]
  },
  {
   "cell_type": "code",
   "execution_count": 35,
   "metadata": {},
   "outputs": [
    {
     "name": "stdout",
     "output_type": "stream",
     "text": [
      " "
     ]
    },
    {
     "data": {
      "application/javascript": [
       "\n",
       "            setTimeout(function() {\n",
       "                var nbb_cell_id = 35;\n",
       "                var nbb_unformatted_code = \"%%prun\\nproj_X, proj_mat = splitter.sample_proj_mat(sample_inds=np.arange(n))\";\n",
       "                var nbb_formatted_code = \"%%prun\\nproj_X, proj_mat = splitter.sample_proj_mat(sample_inds=np.arange(n))\";\n",
       "                var nbb_cells = Jupyter.notebook.get_cells();\n",
       "                for (var i = 0; i < nbb_cells.length; ++i) {\n",
       "                    if (nbb_cells[i].input_prompt_number == nbb_cell_id) {\n",
       "                        if (nbb_cells[i].get_text() == nbb_unformatted_code) {\n",
       "                             nbb_cells[i].set_text(nbb_formatted_code);\n",
       "                        }\n",
       "                        break;\n",
       "                    }\n",
       "                }\n",
       "            }, 500);\n",
       "            "
      ],
      "text/plain": [
       "<IPython.core.display.Javascript object>"
      ]
     },
     "metadata": {},
     "output_type": "display_data"
    },
    {
     "data": {
      "text/plain": [
       "         72026 function calls in 0.171 seconds\n",
       "\n",
       "   Ordered by: internal time\n",
       "\n",
       "   ncalls  tottime  percall  cumtime  percall filename:lineno(function)\n",
       "        1    0.084    0.084    0.167    0.167 morf.py:192(sample_proj_mat)\n",
       "     2000    0.017    0.000    0.027    0.000 morf.py:131(_get_rand_patch_idx)\n",
       "     6002    0.014    0.000    0.035    0.000 {built-in method numpy.core._multiarray_umath.implement_array_function}\n",
       "     2002    0.010    0.000    0.010    0.000 {method 'randint' of 'numpy.random.mtrand.RandomState' objects}\n",
       "     2000    0.008    0.000    0.021    0.000 index_tricks.py:35(ix_)\n",
       "     4001    0.006    0.000    0.006    0.000 {built-in method numpy.arange}\n",
       "     2000    0.004    0.000    0.043    0.000 morf.py:160(_get_patch_idx)\n",
       "        1    0.004    0.004    0.171    0.171 <string>:1(<module>)\n",
       "     8000    0.003    0.000    0.005    0.000 numerictypes.py:285(issubclass_)\n",
       "     4000    0.003    0.000    0.009    0.000 numerictypes.py:359(issubdtype)\n",
       "        1    0.003    0.003    0.003    0.003 {built-in method numpy.zeros}\n",
       "     4000    0.002    0.000    0.002    0.000 {method 'reshape' of 'numpy.ndarray' objects}\n",
       "    12000    0.002    0.000    0.002    0.000 {built-in method builtins.issubclass}\n",
       "     2000    0.002    0.000    0.009    0.000 morf.py:189(_compute_vectorized_index_in_data)\n",
       "     2000    0.002    0.000    0.010    0.000 morf.py:184(_compute_index_in_vectorized_data)\n",
       "     2000    0.001    0.000    0.008    0.000 <__array_function__ internals>:2(unravel_index)\n",
       "     2000    0.001    0.000    0.008    0.000 <__array_function__ internals>:2(ravel_multi_index)\n",
       "     2000    0.001    0.000    0.023    0.000 <__array_function__ internals>:2(ix_)\n",
       "     4000    0.001    0.000    0.001    0.000 {built-in method builtins.isinstance}\n",
       "     4000    0.000    0.000    0.000    0.000 {method 'append' of 'list' objects}\n",
       "     2000    0.000    0.000    0.000    0.000 multiarray.py:1001(unravel_index)\n",
       "     2000    0.000    0.000    0.000    0.000 {built-in method builtins.len}\n",
       "     2000    0.000    0.000    0.000    0.000 index_tricks.py:31(_ix__dispatcher)\n",
       "     2000    0.000    0.000    0.000    0.000 multiarray.py:940(ravel_multi_index)\n",
       "        1    0.000    0.000    0.171    0.171 {built-in method builtins.exec}\n",
       "        2    0.000    0.000    0.000    0.000 {method 'reduce' of 'numpy.ufunc' objects}\n",
       "        2    0.000    0.000    0.000    0.000 fromnumeric.py:70(_wrapreduction)\n",
       "        2    0.000    0.000    0.000    0.000 <__array_function__ internals>:2(prod)\n",
       "        2    0.000    0.000    0.000    0.000 fromnumeric.py:2912(prod)\n",
       "        2    0.000    0.000    0.000    0.000 fromnumeric.py:71(<dictcomp>)\n",
       "        2    0.000    0.000    0.000    0.000 {built-in method builtins.getattr}\n",
       "        2    0.000    0.000    0.000    0.000 fromnumeric.py:2907(_prod_dispatcher)\n",
       "        1    0.000    0.000    0.000    0.000 {method 'disable' of '_lsprof.Profiler' objects}\n",
       "        2    0.000    0.000    0.000    0.000 {method 'items' of 'dict' objects}"
      ]
     },
     "metadata": {},
     "output_type": "display_data"
    }
   ],
   "source": [
    "%%prun\n",
    "proj_X, proj_mat = splitter.sample_proj_mat(sample_inds=np.arange(n))"
   ]
  },
  {
   "cell_type": "code",
   "execution_count": 23,
   "metadata": {},
   "outputs": [
    {
     "name": "stdout",
     "output_type": "stream",
     "text": [
      " "
     ]
    },
    {
     "data": {
      "application/javascript": [
       "\n",
       "            setTimeout(function() {\n",
       "                var nbb_cell_id = 23;\n",
       "                var nbb_unformatted_code = \"%%prun\\nproj_X, proj_mat = splitter.sample_proj_mat(sample_inds=np.arange(n))\";\n",
       "                var nbb_formatted_code = \"%%prun\\nproj_X, proj_mat = splitter.sample_proj_mat(sample_inds=np.arange(n))\";\n",
       "                var nbb_cells = Jupyter.notebook.get_cells();\n",
       "                for (var i = 0; i < nbb_cells.length; ++i) {\n",
       "                    if (nbb_cells[i].input_prompt_number == nbb_cell_id) {\n",
       "                        if (nbb_cells[i].get_text() == nbb_unformatted_code) {\n",
       "                             nbb_cells[i].set_text(nbb_formatted_code);\n",
       "                        }\n",
       "                        break;\n",
       "                    }\n",
       "                }\n",
       "            }, 500);\n",
       "            "
      ],
      "text/plain": [
       "<IPython.core.display.Javascript object>"
      ]
     },
     "metadata": {},
     "output_type": "display_data"
    },
    {
     "data": {
      "text/plain": [
       "         76006 function calls in 0.170 seconds\n",
       "\n",
       "   Ordered by: internal time\n",
       "\n",
       "   ncalls  tottime  percall  cumtime  percall filename:lineno(function)\n",
       "        1    0.083    0.083    0.170    0.170 morf.py:201(sample_proj_mat)\n",
       "     6000    0.021    0.000    0.021    0.000 {method 'randint' of 'numpy.random.mtrand.RandomState' objects}\n",
       "     6000    0.015    0.000    0.036    0.000 {built-in method numpy.core._multiarray_umath.implement_array_function}\n",
       "     2000    0.009    0.000    0.030    0.000 morf.py:131(_get_rand_patch_idx)\n",
       "     2000    0.008    0.000    0.021    0.000 index_tricks.py:35(ix_)\n",
       "     4001    0.006    0.000    0.006    0.000 {built-in method numpy.arange}\n",
       "     2000    0.005    0.000    0.044    0.000 morf.py:169(_get_patch_idx)\n",
       "     4000    0.004    0.000    0.009    0.000 numerictypes.py:359(issubdtype)\n",
       "     8000    0.003    0.000    0.005    0.000 numerictypes.py:285(issubclass_)\n",
       "        1    0.003    0.003    0.003    0.003 {built-in method numpy.zeros}\n",
       "     4000    0.002    0.000    0.002    0.000 {method 'reshape' of 'numpy.ndarray' objects}\n",
       "    12000    0.002    0.000    0.002    0.000 {built-in method builtins.issubclass}\n",
       "     2000    0.002    0.000    0.011    0.000 morf.py:193(_compute_index_in_vectorized_data)\n",
       "     2000    0.002    0.000    0.009    0.000 morf.py:198(_compute_vectorized_index_in_data)\n",
       "     2000    0.001    0.000    0.008    0.000 <__array_function__ internals>:2(unravel_index)\n",
       "     2000    0.001    0.000    0.009    0.000 <__array_function__ internals>:2(ravel_multi_index)\n",
       "     2000    0.001    0.000    0.024    0.000 <__array_function__ internals>:2(ix_)\n",
       "     4000    0.001    0.000    0.001    0.000 {built-in method builtins.isinstance}\n",
       "     4000    0.000    0.000    0.000    0.000 {method 'append' of 'list' objects}\n",
       "     2000    0.000    0.000    0.000    0.000 multiarray.py:1001(unravel_index)\n",
       "     2000    0.000    0.000    0.000    0.000 {built-in method builtins.len}\n",
       "     2000    0.000    0.000    0.000    0.000 multiarray.py:940(ravel_multi_index)\n",
       "     2000    0.000    0.000    0.000    0.000 index_tricks.py:31(_ix__dispatcher)\n",
       "        1    0.000    0.000    0.170    0.170 {built-in method builtins.exec}\n",
       "        1    0.000    0.000    0.170    0.170 <string>:1(<module>)\n",
       "        1    0.000    0.000    0.000    0.000 {method 'disable' of '_lsprof.Profiler' objects}"
      ]
     },
     "metadata": {},
     "output_type": "display_data"
    }
   ],
   "source": [
    "%%prun\n",
    "proj_X, proj_mat = splitter.sample_proj_mat(sample_inds=np.arange(n))"
   ]
  },
  {
   "cell_type": "markdown",
   "metadata": {},
   "source": [
    "# Classification Tree - Convolutional Tree"
   ]
  },
  {
   "cell_type": "code",
   "execution_count": 28,
   "metadata": {},
   "outputs": [
    {
     "data": {
      "application/javascript": [
       "\n",
       "            setTimeout(function() {\n",
       "                var nbb_cell_id = 28;\n",
       "                var nbb_unformatted_code = \"from proglearn.morf import Conv2DObliqueTreeClassifier\";\n",
       "                var nbb_formatted_code = \"from proglearn.morf import Conv2DObliqueTreeClassifier\";\n",
       "                var nbb_cells = Jupyter.notebook.get_cells();\n",
       "                for (var i = 0; i < nbb_cells.length; ++i) {\n",
       "                    if (nbb_cells[i].input_prompt_number == nbb_cell_id) {\n",
       "                        if (nbb_cells[i].get_text() == nbb_unformatted_code) {\n",
       "                             nbb_cells[i].set_text(nbb_formatted_code);\n",
       "                        }\n",
       "                        break;\n",
       "                    }\n",
       "                }\n",
       "            }, 500);\n",
       "            "
      ],
      "text/plain": [
       "<IPython.core.display.Javascript object>"
      ]
     },
     "metadata": {},
     "output_type": "display_data"
    }
   ],
   "source": [
    "from proglearn.morf import Conv2DObliqueTreeClassifier"
   ]
  },
  {
   "cell_type": "code",
   "execution_count": 29,
   "metadata": {},
   "outputs": [
    {
     "data": {
      "application/javascript": [
       "\n",
       "            setTimeout(function() {\n",
       "                var nbb_cell_id = 29;\n",
       "                var nbb_unformatted_code = \"clf = Conv2DObliqueTreeClassifier(\\n    n_estimators=5,\\n    random_state=random_state,\\n    image_height=height,\\n    image_width=d,\\n    patch_height_max=5,\\n    patch_height_min=1,\\n    patch_width_min=1,\\n    patch_width_max=2,\\n    discontiguous_height=True,\\n    discontiguous_width=False,\\n)\";\n",
       "                var nbb_formatted_code = \"clf = Conv2DObliqueTreeClassifier(\\n    n_estimators=5,\\n    random_state=random_state,\\n    image_height=height,\\n    image_width=d,\\n    patch_height_max=5,\\n    patch_height_min=1,\\n    patch_width_min=1,\\n    patch_width_max=2,\\n    discontiguous_height=True,\\n    discontiguous_width=False,\\n)\";\n",
       "                var nbb_cells = Jupyter.notebook.get_cells();\n",
       "                for (var i = 0; i < nbb_cells.length; ++i) {\n",
       "                    if (nbb_cells[i].input_prompt_number == nbb_cell_id) {\n",
       "                        if (nbb_cells[i].get_text() == nbb_unformatted_code) {\n",
       "                             nbb_cells[i].set_text(nbb_formatted_code);\n",
       "                        }\n",
       "                        break;\n",
       "                    }\n",
       "                }\n",
       "            }, 500);\n",
       "            "
      ],
      "text/plain": [
       "<IPython.core.display.Javascript object>"
      ]
     },
     "metadata": {},
     "output_type": "display_data"
    }
   ],
   "source": [
    "clf = Conv2DObliqueTreeClassifier(\n",
    "    n_estimators=5,\n",
    "    random_state=random_state,\n",
    "    image_height=height,\n",
    "    image_width=d,\n",
    "    patch_height_max=5,\n",
    "    patch_height_min=1,\n",
    "    patch_width_min=1,\n",
    "    patch_width_max=2,\n",
    "    discontiguous_height=True,\n",
    "    discontiguous_width=False,\n",
    ")"
   ]
  },
  {
   "cell_type": "code",
   "execution_count": 30,
   "metadata": {},
   "outputs": [
    {
     "ename": "ValueError",
     "evalue": "Buffer has wrong number of dimensions (expected 2, got 3)",
     "output_type": "error",
     "traceback": [
      "\u001b[0;31m---------------------------------------------------------------------------\u001b[0m",
      "\u001b[0;31mValueError\u001b[0m                                Traceback (most recent call last)",
      "\u001b[0;32m<ipython-input-30-b0953fbb1d6e>\u001b[0m in \u001b[0;36m<module>\u001b[0;34m\u001b[0m\n\u001b[0;32m----> 1\u001b[0;31m \u001b[0mclf\u001b[0m\u001b[0;34m.\u001b[0m\u001b[0mfit\u001b[0m\u001b[0;34m(\u001b[0m\u001b[0mX\u001b[0m\u001b[0;34m,\u001b[0m \u001b[0my\u001b[0m\u001b[0;34m)\u001b[0m\u001b[0;34m\u001b[0m\u001b[0;34m\u001b[0m\u001b[0m\n\u001b[0m",
      "\u001b[0;32m~/Documents/ProgLearn/proglearn/morf.py\u001b[0m in \u001b[0;36mfit\u001b[0;34m(self, X, y, sample_weight)\u001b[0m\n\u001b[1;32m    432\u001b[0m             \u001b[0mself\u001b[0m\u001b[0;34m.\u001b[0m\u001b[0mmin_impurity_decrease\u001b[0m\u001b[0;34m,\u001b[0m\u001b[0;34m\u001b[0m\u001b[0;34m\u001b[0m\u001b[0m\n\u001b[1;32m    433\u001b[0m         )\n\u001b[0;32m--> 434\u001b[0;31m         \u001b[0mself\u001b[0m\u001b[0;34m.\u001b[0m\u001b[0mtree\u001b[0m\u001b[0;34m.\u001b[0m\u001b[0mbuild\u001b[0m\u001b[0;34m(\u001b[0m\u001b[0;34m)\u001b[0m\u001b[0;34m\u001b[0m\u001b[0;34m\u001b[0m\u001b[0m\n\u001b[0m\u001b[1;32m    435\u001b[0m         \u001b[0;32mreturn\u001b[0m \u001b[0mself\u001b[0m\u001b[0;34m\u001b[0m\u001b[0;34m\u001b[0m\u001b[0m\n\u001b[1;32m    436\u001b[0m \u001b[0;34m\u001b[0m\u001b[0m\n",
      "\u001b[0;32m~/Documents/ProgLearn/proglearn/transformers.py\u001b[0m in \u001b[0;36mbuild\u001b[0;34m(self)\u001b[0m\n\u001b[1;32m    756\u001b[0m             \u001b[0;31m# Split if not\u001b[0m\u001b[0;34m\u001b[0m\u001b[0;34m\u001b[0m\u001b[0;34m\u001b[0m\u001b[0m\n\u001b[1;32m    757\u001b[0m             \u001b[0;32mif\u001b[0m \u001b[0;32mnot\u001b[0m \u001b[0mis_leaf\u001b[0m\u001b[0;34m:\u001b[0m\u001b[0;34m\u001b[0m\u001b[0;34m\u001b[0m\u001b[0m\n\u001b[0;32m--> 758\u001b[0;31m                 \u001b[0msplit\u001b[0m \u001b[0;34m=\u001b[0m \u001b[0mself\u001b[0m\u001b[0;34m.\u001b[0m\u001b[0msplitter\u001b[0m\u001b[0;34m.\u001b[0m\u001b[0msplit\u001b[0m\u001b[0;34m(\u001b[0m\u001b[0mcur\u001b[0m\u001b[0;34m.\u001b[0m\u001b[0msample_idx\u001b[0m\u001b[0;34m)\u001b[0m\u001b[0;34m\u001b[0m\u001b[0;34m\u001b[0m\u001b[0m\n\u001b[0m\u001b[1;32m    759\u001b[0m \u001b[0;34m\u001b[0m\u001b[0m\n\u001b[1;32m    760\u001b[0m                 is_leaf = (\n",
      "\u001b[0;32m~/Documents/ProgLearn/proglearn/transformers.py\u001b[0m in \u001b[0;36msplit\u001b[0;34m(self, sample_inds)\u001b[0m\n\u001b[1;32m    493\u001b[0m         \u001b[0mright_impurity\u001b[0m\u001b[0;34m,\u001b[0m\u001b[0;34m\u001b[0m\u001b[0;34m\u001b[0m\u001b[0m\n\u001b[1;32m    494\u001b[0m         \u001b[0mright_idx\u001b[0m\u001b[0;34m,\u001b[0m\u001b[0;34m\u001b[0m\u001b[0;34m\u001b[0m\u001b[0m\n\u001b[0;32m--> 495\u001b[0;31m         improvement) = self.BOS.best_split(proj_X, y_sample, sample_inds)\n\u001b[0m\u001b[1;32m    496\u001b[0m \u001b[0;34m\u001b[0m\u001b[0m\n\u001b[1;32m    497\u001b[0m         \u001b[0mleft_n_samples\u001b[0m \u001b[0;34m=\u001b[0m \u001b[0mlen\u001b[0m\u001b[0;34m(\u001b[0m\u001b[0mleft_idx\u001b[0m\u001b[0;34m)\u001b[0m\u001b[0;34m\u001b[0m\u001b[0;34m\u001b[0m\u001b[0m\n",
      "\u001b[0;32m~/Documents/ProgLearn/proglearn/split.pyx\u001b[0m in \u001b[0;36msplit.BaseObliqueSplitter.best_split\u001b[0;34m()\u001b[0m\n\u001b[1;32m    118\u001b[0m \u001b[0;34m\u001b[0m\u001b[0m\n\u001b[1;32m    119\u001b[0m     \u001b[0;31m# X = proj_X, y = y_sample\u001b[0m\u001b[0;34m\u001b[0m\u001b[0;34m\u001b[0m\u001b[0;34m\u001b[0m\u001b[0m\n\u001b[0;32m--> 120\u001b[0;31m     \u001b[0mcpdef\u001b[0m \u001b[0mbest_split\u001b[0m\u001b[0;34m(\u001b[0m\u001b[0mself\u001b[0m\u001b[0;34m,\u001b[0m \u001b[0mdouble\u001b[0m\u001b[0;34m[\u001b[0m\u001b[0;34m:\u001b[0m\u001b[0;34m,\u001b[0m \u001b[0;34m:\u001b[0m\u001b[0;34m]\u001b[0m \u001b[0mX\u001b[0m\u001b[0;34m,\u001b[0m \u001b[0mdouble\u001b[0m\u001b[0;34m[\u001b[0m\u001b[0;34m:\u001b[0m\u001b[0;34m]\u001b[0m \u001b[0my\u001b[0m\u001b[0;34m,\u001b[0m \u001b[0mint\u001b[0m\u001b[0;34m[\u001b[0m\u001b[0;34m:\u001b[0m\u001b[0;34m]\u001b[0m \u001b[0msample_inds\u001b[0m\u001b[0;34m)\u001b[0m\u001b[0;34m:\u001b[0m\u001b[0;34m\u001b[0m\u001b[0;34m\u001b[0m\u001b[0m\n\u001b[0m\u001b[1;32m    121\u001b[0m \u001b[0;34m\u001b[0m\u001b[0m\n\u001b[1;32m    122\u001b[0m         \u001b[0mcdef\u001b[0m \u001b[0mint\u001b[0m \u001b[0mn_samples\u001b[0m \u001b[0;34m=\u001b[0m \u001b[0mX\u001b[0m\u001b[0;34m.\u001b[0m\u001b[0mshape\u001b[0m\u001b[0;34m[\u001b[0m\u001b[0;36m0\u001b[0m\u001b[0;34m]\u001b[0m\u001b[0;34m\u001b[0m\u001b[0;34m\u001b[0m\u001b[0m\n",
      "\u001b[0;31mValueError\u001b[0m: Buffer has wrong number of dimensions (expected 2, got 3)"
     ]
    },
    {
     "data": {
      "application/javascript": [
       "\n",
       "            setTimeout(function() {\n",
       "                var nbb_cell_id = 30;\n",
       "                var nbb_unformatted_code = \"clf.fit(X, y)\";\n",
       "                var nbb_formatted_code = \"clf.fit(X, y)\";\n",
       "                var nbb_cells = Jupyter.notebook.get_cells();\n",
       "                for (var i = 0; i < nbb_cells.length; ++i) {\n",
       "                    if (nbb_cells[i].input_prompt_number == nbb_cell_id) {\n",
       "                        if (nbb_cells[i].get_text() == nbb_unformatted_code) {\n",
       "                             nbb_cells[i].set_text(nbb_formatted_code);\n",
       "                        }\n",
       "                        break;\n",
       "                    }\n",
       "                }\n",
       "            }, 500);\n",
       "            "
      ],
      "text/plain": [
       "<IPython.core.display.Javascript object>"
      ]
     },
     "metadata": {},
     "output_type": "display_data"
    }
   ],
   "source": [
    "clf.fit(X, y)"
   ]
  },
  {
   "cell_type": "code",
   "execution_count": null,
   "metadata": {},
   "outputs": [],
   "source": []
  },
  {
   "cell_type": "code",
   "execution_count": null,
   "metadata": {},
   "outputs": [],
   "source": []
  }
 ],
 "metadata": {
  "kernelspec": {
   "display_name": "morf",
   "language": "python",
   "name": "morf"
  },
  "language_info": {
   "codemirror_mode": {
    "name": "ipython",
    "version": 3
   },
   "file_extension": ".py",
   "mimetype": "text/x-python",
   "name": "python",
   "nbconvert_exporter": "python",
   "pygments_lexer": "ipython3",
   "version": "3.8.6"
  }
 },
 "nbformat": 4,
 "nbformat_minor": 4
}
