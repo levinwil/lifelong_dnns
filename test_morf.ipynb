{
 "cells": [
  {
   "cell_type": "code",
   "execution_count": 1,
   "metadata": {},
   "outputs": [
    {
     "data": {
      "application/javascript": [
       "\n",
       "            setTimeout(function() {\n",
       "                var nbb_cell_id = 1;\n",
       "                var nbb_unformatted_code = \"%load_ext nb_black\\n%load_ext autoreload\\n%autoreload 2\";\n",
       "                var nbb_formatted_code = \"%load_ext nb_black\\n%load_ext autoreload\\n%autoreload 2\";\n",
       "                var nbb_cells = Jupyter.notebook.get_cells();\n",
       "                for (var i = 0; i < nbb_cells.length; ++i) {\n",
       "                    if (nbb_cells[i].input_prompt_number == nbb_cell_id) {\n",
       "                        if (nbb_cells[i].get_text() == nbb_unformatted_code) {\n",
       "                             nbb_cells[i].set_text(nbb_formatted_code);\n",
       "                        }\n",
       "                        break;\n",
       "                    }\n",
       "                }\n",
       "            }, 500);\n",
       "            "
      ],
      "text/plain": [
       "<IPython.core.display.Javascript object>"
      ]
     },
     "metadata": {},
     "output_type": "display_data"
    }
   ],
   "source": [
    "%load_ext nb_black\n",
    "%load_ext autoreload\n",
    "%autoreload 2"
   ]
  },
  {
   "cell_type": "code",
   "execution_count": 13,
   "metadata": {},
   "outputs": [
    {
     "data": {
      "application/javascript": [
       "\n",
       "            setTimeout(function() {\n",
       "                var nbb_cell_id = 13;\n",
       "                var nbb_unformatted_code = \"import numpy as np\\nfrom proglearn.morf import Conv2DSplitter\\nimport matplotlib as mpl\\nimport seaborn as sns\";\n",
       "                var nbb_formatted_code = \"import numpy as np\\nfrom proglearn.morf import Conv2DSplitter\\nimport matplotlib as mpl\\nimport seaborn as sns\";\n",
       "                var nbb_cells = Jupyter.notebook.get_cells();\n",
       "                for (var i = 0; i < nbb_cells.length; ++i) {\n",
       "                    if (nbb_cells[i].input_prompt_number == nbb_cell_id) {\n",
       "                        if (nbb_cells[i].get_text() == nbb_unformatted_code) {\n",
       "                             nbb_cells[i].set_text(nbb_formatted_code);\n",
       "                        }\n",
       "                        break;\n",
       "                    }\n",
       "                }\n",
       "            }, 500);\n",
       "            "
      ],
      "text/plain": [
       "<IPython.core.display.Javascript object>"
      ]
     },
     "metadata": {},
     "output_type": "display_data"
    }
   ],
   "source": [
    "import numpy as np\n",
    "from proglearn.morf import Conv2DSplitter\n",
    "import matplotlib as mpl\n",
    "import seaborn as sns"
   ]
  },
  {
   "cell_type": "code",
   "execution_count": 14,
   "metadata": {},
   "outputs": [
    {
     "data": {
      "application/javascript": [
       "\n",
       "            setTimeout(function() {\n",
       "                var nbb_cell_id = 14;\n",
       "                var nbb_unformatted_code = \"n = 50\\nheight = 5\\nd = 4\\nX = np.ones((n, height * d))\\ny = np.ones((n,))\\ny[:25] = 0\\n\\nrandom_state = 12345\\n\\nsplitter = Conv2DSplitter(X, y, max_features=1, feature_combinations=1.5,\\n        random_state=random_state, image_height=height, image_width=d, \\n        patch_height_max=5, patch_height_min=1, )\";\n",
       "                var nbb_formatted_code = \"n = 50\\nheight = 5\\nd = 4\\nX = np.ones((n, height * d))\\ny = np.ones((n,))\\ny[:25] = 0\\n\\nrandom_state = 12345\\n\\nsplitter = Conv2DSplitter(\\n    X,\\n    y,\\n    max_features=1,\\n    feature_combinations=1.5,\\n    random_state=random_state,\\n    image_height=height,\\n    image_width=d,\\n    patch_height_max=5,\\n    patch_height_min=1,\\n)\";\n",
       "                var nbb_cells = Jupyter.notebook.get_cells();\n",
       "                for (var i = 0; i < nbb_cells.length; ++i) {\n",
       "                    if (nbb_cells[i].input_prompt_number == nbb_cell_id) {\n",
       "                        if (nbb_cells[i].get_text() == nbb_unformatted_code) {\n",
       "                             nbb_cells[i].set_text(nbb_formatted_code);\n",
       "                        }\n",
       "                        break;\n",
       "                    }\n",
       "                }\n",
       "            }, 500);\n",
       "            "
      ],
      "text/plain": [
       "<IPython.core.display.Javascript object>"
      ]
     },
     "metadata": {},
     "output_type": "display_data"
    }
   ],
   "source": [
    "n = 50\n",
    "height = 5\n",
    "d = 4\n",
    "X = np.ones((n, height * d))\n",
    "y = np.ones((n,))\n",
    "y[:25] = 0\n",
    "\n",
    "random_state = 12345\n",
    "\n",
    "splitter = Conv2DSplitter(X, y, max_features=1, feature_combinations=1.5,\n",
    "        random_state=random_state, image_height=height, image_width=d, \n",
    "        patch_height_max=5, patch_height_min=1, patch_width_min=1, patch_width_max=2)"
   ]
  },
  {
   "cell_type": "code",
   "execution_count": 16,
   "metadata": {
    "tags": []
   },
   "outputs": [
    {
     "name": "stdout",
     "output_type": "stream",
     "text": [
      "0 7 (1, 3) 4 1\n",
      "1 10 (2, 2) 3 1\n",
      "2 13 (3, 1) 1 1\n",
      "3 7 (1, 3) 4 1\n",
      "4 11 (2, 3) 3 1\n",
      "5 7 (1, 3) 3 1\n",
      "6 4 (1, 0) 3 1\n",
      "7 5 (1, 1) 2 1\n",
      "8 18 (4, 2) 1 1\n",
      "9 9 (2, 1) 1 1\n",
      "10 5 (1, 1) 2 1\n",
      "11 0 (0, 0) 3 1\n",
      "12 13 (3, 1) 2 1\n",
      "13 15 (3, 3) 1 1\n",
      "14 6 (1, 2) 4 1\n",
      "15 10 (2, 2) 2 1\n",
      "16 1 (0, 1) 3 1\n",
      "17 6 (1, 2) 1 1\n",
      "18 19 (4, 3) 1 1\n",
      "19 8 (2, 0) 3 1\n",
      "(50, 20) (20, 20) (50, 20)\n"
     ]
    },
    {
     "data": {
      "application/javascript": [
       "\n",
       "            setTimeout(function() {\n",
       "                var nbb_cell_id = 16;\n",
       "                var nbb_unformatted_code = \"proj_X, proj_mat = splitter.sample_proj_mat(sample_inds=np.arange(n))\\n\\nprint(proj_X.shape, proj_mat.shape, X.shape)\";\n",
       "                var nbb_formatted_code = \"proj_X, proj_mat = splitter.sample_proj_mat(sample_inds=np.arange(n))\\n\\nprint(proj_X.shape, proj_mat.shape, X.shape)\";\n",
       "                var nbb_cells = Jupyter.notebook.get_cells();\n",
       "                for (var i = 0; i < nbb_cells.length; ++i) {\n",
       "                    if (nbb_cells[i].input_prompt_number == nbb_cell_id) {\n",
       "                        if (nbb_cells[i].get_text() == nbb_unformatted_code) {\n",
       "                             nbb_cells[i].set_text(nbb_formatted_code);\n",
       "                        }\n",
       "                        break;\n",
       "                    }\n",
       "                }\n",
       "            }, 500);\n",
       "            "
      ],
      "text/plain": [
       "<IPython.core.display.Javascript object>"
      ]
     },
     "metadata": {},
     "output_type": "display_data"
    }
   ],
   "source": [
    "proj_X, proj_mat = splitter.sample_proj_mat(sample_inds=np.arange(n))\n",
    "\n",
    "print(proj_X.shape, proj_mat.shape, X.shape)"
   ]
  },
  {
   "cell_type": "code",
   "execution_count": 18,
   "metadata": {},
   "outputs": [
    {
     "data": {
      "text/plain": [
       "<AxesSubplot:>"
      ]
     },
     "execution_count": 18,
     "metadata": {},
     "output_type": "execute_result"
    },
    {
     "data": {
      "image/png": "[encoded data removed]",
      "text/plain": [
       "<Figure size 432x288 with 2 Axes>"
      ]
     },
     "metadata": {
      "needs_background": "light"
     },
     "output_type": "display_data"
    },
    {
     "data": {
      "application/javascript": [
       "\n",
       "            setTimeout(function() {\n",
       "                var nbb_cell_id = 18;\n",
       "                var nbb_unformatted_code = \"sns.heatmap(proj_mat, annot=True)\";\n",
       "                var nbb_formatted_code = \"sns.heatmap(proj_mat, annot=True)\";\n",
       "                var nbb_cells = Jupyter.notebook.get_cells();\n",
       "                for (var i = 0; i < nbb_cells.length; ++i) {\n",
       "                    if (nbb_cells[i].input_prompt_number == nbb_cell_id) {\n",
       "                        if (nbb_cells[i].get_text() == nbb_unformatted_code) {\n",
       "                             nbb_cells[i].set_text(nbb_formatted_code);\n",
       "                        }\n",
       "                        break;\n",
       "                    }\n",
       "                }\n",
       "            }, 500);\n",
       "            "
      ],
      "text/plain": [
       "<IPython.core.display.Javascript object>"
      ]
     },
     "metadata": {},
     "output_type": "display_data"
    }
   ],
   "source": [
    "sns.heatmap(proj_mat, annot=True)"
   ]
  },
  {
   "cell_type": "code",
   "execution_count": null,
   "metadata": {},
   "outputs": [],
   "source": []
  }
 ],
 "metadata": {
  "kernelspec": {
   "display_name": "morf",
   "language": "python",
   "name": "morf"
  },
  "language_info": {
   "codemirror_mode": {
    "name": "ipython",
    "version": 3
   },
   "file_extension": ".py",
   "mimetype": "text/x-python",
   "name": "python",
   "nbconvert_exporter": "python",
   "pygments_lexer": "ipython3",
   "version": "3.8.6"
  }
 },
 "nbformat": 4,
 "nbformat_minor": 4
}
